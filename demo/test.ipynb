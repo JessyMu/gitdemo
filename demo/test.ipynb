{
 "cells": [
  {
   "cell_type": "code",
   "execution_count": 1,
   "id": "36141b94",
   "metadata": {},
   "outputs": [],
   "source": [
    "import time\n",
    "\n",
    "import requests\n",
    "import json\n",
    "\n",
    "\n",
    "# 测试用例\n",
    "\n",
    "def solve_test_commit():\n",
    "    url = \"https://www.srdcloud.cn/api/tsback/manualresult/v1/save\"\n",
    "\n",
    "    payload = json.dumps({\n",
    "       \"planId\": \"143509\",\n",
    "       \"caseId\": \"3627251\",\n",
    "       \"result\": \"OK\",\n",
    "       \"resultDesc\": \"<p>测试成功</p>\",\n",
    "       \"descType\": \"step\",\n",
    "       \"description\": {}\n",
    "    })\n",
    "    # 需要变动 sessionid   userid(后续不变）    x-dup-id  Cookie'\n",
    "    headers = {\n",
    "        'authority': 'www.srdcloud.cn',\n",
    "        'pragma': 'no-cache',\n",
    "        'projectid': '32310',\n",
    "        'sessionid': '44d10d85-1e79-45a3-9646-44656183602a',\n",
    "        'userid': '264841',\n",
    "        'x-dup-id': '1747962699-1zrsajouw',\n",
    "        'Cookie': '_pk_id.8.136f=3489c818118ee943.1725241416.; _pk_id.5.136f=1b3e3f31a58e0037.1725241417.; _pk_id.4.136f=0b49a46a7a943210.1725325196.; fp=c94054e345de06e2421e1b1f4942c649; _pk_id.3.136f=923e2f550de8dde0.1734319653.; _pk_ref..136f=%5B%22%22%2C%22%22%2C1747962219%2C%22https%3A%2F%2Fopen.e.189.cn%2F%22%5D; _pk_id.11.136f=c670d85a08784856.1742785487.; prodtoken=0741a5e8-1024-483c-99b8-fb75011bcaed; produserId=264841; CTWIMAPPDPGSSOCookie=0741a5e8-1024-483c-99b8-fb75011bcaed; CTWIMAPPDPGSSOUser=wanghr3; sidebar_status=closed',\n",
    "        'content-type': 'application/json'\n",
    "    }\n",
    "\n",
    "    response = requests.request(\"POST\", url, headers=headers, data=payload)\n",
    "\n",
    "    print(response.text)"
   ]
  },
  {
   "cell_type": "code",
   "execution_count": 3,
   "id": "73f3b451",
   "metadata": {},
   "outputs": [
    {
     "name": "stdout",
     "output_type": "stream",
     "text": [
      "{\"Status\":401,\"Detail\":\"{\\\"optResult\\\":101,\\\"msg\\\":\\\"认证失败\\\",\\\"type\\\":\\\"\\\"}\"}\n"
     ]
    }
   ],
   "source": [
    "solve_test_commit()"
   ]
  },
  {
   "cell_type": "code",
   "execution_count": 6,
   "id": "7fcfa5da",
   "metadata": {},
   "outputs": [
    {
     "ename": "Error",
     "evalue": "It looks like you are using Playwright Sync API inside the asyncio loop.\nPlease use the Async API instead.",
     "output_type": "error",
     "traceback": [
      "\u001b[0;31m---------------------------------------------------------------------------\u001b[0m",
      "\u001b[0;31mError\u001b[0m                                     Traceback (most recent call last)",
      "Cell \u001b[0;32mIn[6], line 8\u001b[0m\n\u001b[1;32m      5\u001b[0m DOC_URL \u001b[38;5;241m=\u001b[39m \u001b[38;5;124m\"\u001b[39m\u001b[38;5;124mhttps://docs.srdcloud.cn/docs/NJkbEl9MyKh0OoqR\u001b[39m\u001b[38;5;124m\"\u001b[39m\n\u001b[1;32m      7\u001b[0m \u001b[38;5;66;03m# 启动浏览器\u001b[39;00m\n\u001b[0;32m----> 8\u001b[0m \u001b[38;5;28;01mwith\u001b[39;00m sync_playwright() \u001b[38;5;28;01mas\u001b[39;00m p:\n\u001b[1;32m      9\u001b[0m     browser \u001b[38;5;241m=\u001b[39m p\u001b[38;5;241m.\u001b[39mchromium\u001b[38;5;241m.\u001b[39mlaunch_persistent_context(\n\u001b[1;32m     10\u001b[0m         user_data_dir\u001b[38;5;241m=\u001b[39m\u001b[38;5;124m\"\u001b[39m\u001b[38;5;124m./user_data\u001b[39m\u001b[38;5;124m\"\u001b[39m,  \u001b[38;5;66;03m# 保存登录状态\u001b[39;00m\n\u001b[1;32m     11\u001b[0m         headless\u001b[38;5;241m=\u001b[39m\u001b[38;5;28;01mFalse\u001b[39;00m,               \u001b[38;5;66;03m# 设为True可后台运行\u001b[39;00m\n\u001b[1;32m     12\u001b[0m         executable_path\u001b[38;5;241m=\u001b[39m\u001b[38;5;124m\"\u001b[39m\u001b[38;5;124m/Applications/Microsoft Edge.app/Contents/MacOS/Microsoft Edge\u001b[39m\u001b[38;5;124m\"\u001b[39m,\n\u001b[1;32m     13\u001b[0m         args\u001b[38;5;241m=\u001b[39m[\u001b[38;5;124m\"\u001b[39m\u001b[38;5;124m--disable-blink-features=AutomationControlled\u001b[39m\u001b[38;5;124m\"\u001b[39m]\n\u001b[1;32m     14\u001b[0m     )\n",
      "File \u001b[0;32m~/opt/anaconda3/envs/undergraduate/lib/python3.8/site-packages/playwright/sync_api/_context_manager.py:47\u001b[0m, in \u001b[0;36mPlaywrightContextManager.__enter__\u001b[0;34m(self)\u001b[0m\n\u001b[1;32m     45\u001b[0m             \u001b[38;5;28mself\u001b[39m\u001b[38;5;241m.\u001b[39m_own_loop \u001b[38;5;241m=\u001b[39m \u001b[38;5;28;01mTrue\u001b[39;00m\n\u001b[1;32m     46\u001b[0m         \u001b[38;5;28;01mif\u001b[39;00m \u001b[38;5;28mself\u001b[39m\u001b[38;5;241m.\u001b[39m_loop\u001b[38;5;241m.\u001b[39mis_running():\n\u001b[0;32m---> 47\u001b[0m             \u001b[38;5;28;01mraise\u001b[39;00m Error(\n\u001b[1;32m     48\u001b[0m \u001b[38;5;250m                \u001b[39m\u001b[38;5;124;03m\"\"\"It looks like you are using Playwright Sync API inside the asyncio loop.\u001b[39;00m\n\u001b[1;32m     49\u001b[0m \u001b[38;5;124;03mPlease use the Async API instead.\"\"\"\u001b[39;00m\n\u001b[1;32m     50\u001b[0m             )\n\u001b[1;32m     52\u001b[0m         \u001b[38;5;66;03m# Create a new fiber for the protocol dispatcher. It will be pumping events\u001b[39;00m\n\u001b[1;32m     53\u001b[0m         \u001b[38;5;66;03m# until the end of times. We will pass control to that fiber every time we\u001b[39;00m\n\u001b[1;32m     54\u001b[0m         \u001b[38;5;66;03m# block while waiting for a response.\u001b[39;00m\n\u001b[1;32m     55\u001b[0m         \u001b[38;5;28;01mdef\u001b[39;00m \u001b[38;5;21mgreenlet_main\u001b[39m() \u001b[38;5;241m-\u001b[39m\u001b[38;5;241m>\u001b[39m \u001b[38;5;28;01mNone\u001b[39;00m:\n",
      "\u001b[0;31mError\u001b[0m: It looks like you are using Playwright Sync API inside the asyncio loop.\nPlease use the Async API instead."
     ]
    }
   ],
   "source": [
    "from playwright.sync_api import sync_playwright\n",
    "import time\n",
    "\n",
    "# 文档链接\n",
    "DOC_URL = \"https://docs.srdcloud.cn/docs/NJkbEl9MyKh0OoqR\"\n",
    "\n",
    "# 启动浏览器\n",
    "with sync_playwright() as p:\n",
    "    browser = p.chromium.launch_persistent_context(\n",
    "        user_data_dir=\"./user_data\",  # 保存登录状态\n",
    "        headless=False,               # 设为True可后台运行\n",
    "        executable_path=\"/Applications/Microsoft Edge.app/Contents/MacOS/Microsoft Edge\",\n",
    "        args=[\"--disable-blink-features=AutomationControlled\"]\n",
    "    )"
   ]
  },
  {
   "cell_type": "code",
   "execution_count": 2,
   "id": "b5b824ef",
   "metadata": {},
   "outputs": [
    {
     "name": "stdout",
     "output_type": "stream",
     "text": [
      "data:{\"reasoning_content\":null,\"content\":\"```json\\n{\\n\",\"end_mark\":false,\"system_msg\":null,\"dialog_id\":\"3fc894d4-9f87-a097-0a87-678d55f3f872\",\"req_id\":\"0a48d1a6-7ba5-4357-8a29-eaabc169b9e5\",\"llm_model_used\":null}\n",
      "\n",
      "data:{\"reasoning_content\":null,\"content\":\"  \\\"title\\\":\",\"end_mark\":false,\"system_msg\":null,\"dialog_id\":\"3fc894d4-9f87-a097-0a87-678d55f3f872\",\"req_id\":\"0a48d1a6-7ba5-4357-8a29-eaabc169b9e5\",\"llm_model_used\":null}\n",
      "\n",
      "data:{\"reasoning_content\":null,\"content\":\" \\\"Build self\",\"end_mark\":false,\"system_msg\":null,\"dialog_id\":\"3fc894d4-9f87-a097-0a87-678d55f3f872\",\"req_id\":\"0a48d1a6-7ba5-4357-8a29-eaabc169b9e5\",\"llm_model_used\":null}\n",
      "\n",
      "data:{\"reasoning_content\":null,\"content\":\"-service large\",\"end_mark\":false,\"system_msg\":null,\"dialog_id\":\"3fc894d4-9f87-a097-0a87-678d55f3f872\",\"req_id\":\"0a48d1a6-7ba5-4357-8a29-eaabc169b9e5\",\"llm_model_used\":null}\n",
      "\n",
      "data:{\"reasoning_content\":null,\"content\":\"-screen monitoring\",\"end_mark\":false,\"system_msg\":null,\"dialog_id\":\"3fc894d4-9f87-a097-0a87-678d55f3f872\",\"req_id\":\"0a48d1a6-7ba5-4357-8a29-eaabc169b9e5\",\"llm_model_used\":null}\n",
      "\n",
      "data:{\"reasoning_content\":null,\"content\":\" platform for\",\"end_mark\":false,\"system_msg\":null,\"dialog_id\":\"3fc894d4-9f87-a097-0a87-678d55f3f872\",\"req_id\":\"0a48d1a6-7ba5-4357-8a29-eaabc169b9e5\",\"llm_model_used\":null}\n",
      "\n",
      "data:{\"reasoning_content\":null,\"content\":\" IDC users\",\"end_mark\":false,\"system_msg\":null,\"dialog_id\":\"3fc894d4-9f87-a097-0a87-678d55f3f872\",\"req_id\":\"0a48d1a6-7ba5-4357-8a29-eaabc169b9e5\",\"llm_model_used\":null}\n",
      "\n",
      "data:{\"reasoning_content\":null,\"content\":\"\\\",\\n  \\\"description\",\"end_mark\":false,\"system_msg\":null,\"dialog_id\":\"3fc894d4-9f87-a097-0a87-678d55f3f872\",\"req_id\":\"0a48d1a6-7ba5-4357-8a29-eaabc169b9e5\",\"llm_model_used\":null}\n",
      "\n",
      "data:{\"reasoning_content\":null,\"content\":\"\\\": \\\"Background\",\"end_mark\":false,\"system_msg\":null,\"dialog_id\":\"3fc894d4-9f87-a097-0a87-678d55f3f872\",\"req_id\":\"0a48d1a6-7ba5-4357-8a29-eaabc169b9e5\",\"llm_model_used\":null}\n",
      "\n",
      "data:{\"reasoning_content\":null,\"content\":\":\\\\n- Need to\",\"end_mark\":false,\"system_msg\":null,\"dialog_id\":\"3fc894d4-9f87-a097-0a87-678d55f3f872\",\"req_id\":\"0a48d1a6-7ba5-4357-8a29-eaabc169b9e5\",\"llm_model_used\":null}\n",
      "\n",
      "data:{\"reasoning_content\":null,\"content\":\" meet self\",\"end_mark\":false,\"system_msg\":null,\"dialog_id\":\"3fc894d4-9f87-a097-0a87-678d55f3f872\",\"req_id\":\"0a48d1a6-7ba5-4357-8a29-eaabc169b9e5\",\"llm_model_used\":null}\n",
      "\n",
      "data:{\"reasoning_content\":null,\"content\":\"-service monitoring\",\"end_mark\":false,\"system_msg\":null,\"dialog_id\":\"3fc894d4-9f87-a097-0a87-678d55f3f872\",\"req_id\":\"0a48d1a6-7ba5-4357-8a29-eaabc169b9e5\",\"llm_model_used\":null}\n",
      "\n",
      "data:{\"reasoning_content\":null,\"content\":\" requirements\",\"end_mark\":false,\"system_msg\":null,\"dialog_id\":\"3fc894d4-9f87-a097-0a87-678d55f3f872\",\"req_id\":\"0a48d1a6-7ba5-4357-8a29-eaabc169b9e5\",\"llm_model_used\":null}\n",
      "\n",
      "data:{\"reasoning_content\":null,\"content\":\" of IDC data\",\"end_mark\":false,\"system_msg\":null,\"dialog_id\":\"3fc894d4-9f87-a097-0a87-678d55f3f872\",\"req_id\":\"0a48d1a6-7ba5-4357-8a29-eaabc169b9e5\",\"llm_model_used\":null}\n",
      "\n",
      "data:{\"reasoning_content\":null,\"content\":\" center users\",\"end_mark\":false,\"system_msg\":null,\"dialog_id\":\"3fc894d4-9f87-a097-0a87-678d55f3f872\",\"req_id\":\"0a48d1a6-7ba5-4357-8a29-eaabc169b9e5\",\"llm_model_used\":null}\n",
      "\n",
      "data:{\"reasoning_content\":null,\"content\":\"\\\\n- Platform\",\"end_mark\":false,\"system_msg\":null,\"dialog_id\":\"3fc894d4-9f87-a097-0a87-678d55f3f872\",\"req_id\":\"0a48d1a6-7ba5-4357-8a29-eaabc169b9e5\",\"llm_model_used\":null}\n",
      "\n",
      "data:{\"reasoning_content\":null,\"content\":\" will integrate\",\"end_mark\":false,\"system_msg\":null,\"dialog_id\":\"3fc894d4-9f87-a097-0a87-678d55f3f872\",\"req_id\":\"0a48d1a6-7ba5-4357-8a29-eaabc169b9e5\",\"llm_model_used\":null}\n",
      "\n",
      "data:{\"reasoning_content\":null,\"content\":\" i-Park Smart\",\"end_mark\":false,\"system_msg\":null,\"dialog_id\":\"3fc894d4-9f87-a097-0a87-678d55f3f872\",\"req_id\":\"0a48d1a6-7ba5-4357-8a29-eaabc169b9e5\",\"llm_model_used\":null}\n",
      "\n",
      "data:{\"reasoning_content\":null,\"content\":\"Link application\",\"end_mark\":false,\"system_msg\":null,\"dialog_id\":\"3fc894d4-9f87-a097-0a87-678d55f3f872\",\"req_id\":\"0a48d1a6-7ba5-4357-8a29-eaabc169b9e5\",\"llm_model_used\":null}\n",
      "\n",
      "data:{\"reasoning_content\":null,\"content\":\" capabilities\",\"end_mark\":false,\"system_msg\":null,\"dialog_id\":\"3fc894d4-9f87-a097-0a87-678d55f3f872\",\"req_id\":\"0a48d1a6-7ba5-4357-8a29-eaabc169b9e5\",\"llm_model_used\":null}\n",
      "\n",
      "data:{\"reasoning_content\":null,\"content\":\"\\\\n\\\\nObjectives\",\"end_mark\":false,\"system_msg\":null,\"dialog_id\":\"3fc894d4-9f87-a097-0a87-678d55f3f872\",\"req_id\":\"0a48d1a6-7ba5-4357-8a29-eaabc169b9e5\",\"llm_model_used\":null}\n",
      "\n",
      "data:{\"reasoning_content\":null,\"content\":\":\\\\n- Provide\",\"end_mark\":false,\"system_msg\":null,\"dialog_id\":\"3fc894d4-9f87-a097-0a87-678d55f3f872\",\"req_id\":\"0a48d1a6-7ba5-4357-8a29-eaabc169b9e5\",\"llm_model_used\":null}\n",
      "\n",
      "data:{\"reasoning_content\":null,\"content\":\" comprehensive\",\"end_mark\":false,\"system_msg\":null,\"dialog_id\":\"3fc894d4-9f87-a097-0a87-678d55f3f872\",\"req_id\":\"0a48d1a6-7ba5-4357-8a29-eaabc169b9e5\",\"llm_model_used\":null}\n",
      "\n",
      "data:{\"reasoning_content\":null,\"content\":\" monitoring\",\"end_mark\":false,\"system_msg\":null,\"dialog_id\":\"3fc894d4-9f87-a097-0a87-678d55f3f872\",\"req_id\":\"0a48d1a6-7ba5-4357-8a29-eaabc169b9e5\",\"llm_model_used\":null}\n",
      "\n",
      "data:{\"reasoning_content\":null,\"content\":\" services through\",\"end_mark\":false,\"system_msg\":null,\"dialog_id\":\"3fc894d4-9f87-a097-0a87-678d55f3f872\",\"req_id\":\"0a48d1a6-7ba5-4357-8a29-eaabc169b9e5\",\"llm_model_used\":null}\n",
      "\n",
      "data:{\"reasoning_content\":null,\"content\":\" large-screen\",\"end_mark\":false,\"system_msg\":null,\"dialog_id\":\"3fc894d4-9f87-a097-0a87-678d55f3f872\",\"req_id\":\"0a48d1a6-7ba5-4357-8a29-eaabc169b9e5\",\"llm_model_used\":null}\n",
      "\n",
      "data:{\"reasoning_content\":null,\"content\":\" interface\",\"end_mark\":false,\"system_msg\":null,\"dialog_id\":\"3fc894d4-9f87-a097-0a87-678d55f3f872\",\"req_id\":\"0a48d1a6-7ba5-4357-8a29-eaabc169b9e5\",\"llm_model_used\":null}\n",
      "\n",
      "data:{\"reasoning_content\":null,\"content\":\"\\\\n- Enable\",\"end_mark\":false,\"system_msg\":null,\"dialog_id\":\"3fc894d4-9f87-a097-0a87-678d55f3f872\",\"req_id\":\"0a48d1a6-7ba5-4357-8a29-eaabc169b9e5\",\"llm_model_used\":null}\n",
      "\n",
      "data:{\"reasoning_content\":null,\"content\":\" efficient\",\"end_mark\":false,\"system_msg\":null,\"dialog_id\":\"3fc894d4-9f87-a097-0a87-678d55f3f872\",\"req_id\":\"0a48d1a6-7ba5-4357-8a29-eaabc169b9e5\",\"llm_model_used\":null}\n",
      "\n",
      "data:{\"reasoning_content\":null,\"content\":\" data collection\",\"end_mark\":false,\"system_msg\":null,\"dialog_id\":\"3fc894d4-9f87-a097-0a87-678d55f3f872\",\"req_id\":\"0a48d1a6-7ba5-4357-8a29-eaabc169b9e5\",\"llm_model_used\":null}\n",
      "\n",
      "data:{\"reasoning_content\":null,\"content\":\", cleaning\",\"end_mark\":false,\"system_msg\":null,\"dialog_id\":\"3fc894d4-9f87-a097-0a87-678d55f3f872\",\"req_id\":\"0a48d1a6-7ba5-4357-8a29-eaabc169b9e5\",\"llm_model_used\":null}\n",
      "\n",
      "data:{\"reasoning_content\":null,\"content\":\", storage and\",\"end_mark\":false,\"system_msg\":null,\"dialog_id\":\"3fc894d4-9f87-a097-0a87-678d55f3f872\",\"req_id\":\"0a48d1a6-7ba5-4357-8a29-eaabc169b9e5\",\"llm_model_used\":null}\n",
      "\n",
      "data:{\"reasoning_content\":null,\"content\":\" management\",\"end_mark\":false,\"system_msg\":null,\"dialog_id\":\"3fc894d4-9f87-a097-0a87-678d55f3f872\",\"req_id\":\"0a48d1a6-7ba5-4357-8a29-eaabc169b9e5\",\"llm_model_used\":null}\n",
      "\n",
      "data:{\"reasoning_content\":null,\"content\":\"\\\\n- Support\",\"end_mark\":false,\"system_msg\":null,\"dialog_id\":\"3fc894d4-9f87-a097-0a87-678d55f3f872\",\"req_id\":\"0a48d1a6-7ba5-4357-8a29-eaabc169b9e5\",\"llm_model_used\":null}\n",
      "\n",
      "data:{\"reasoning_content\":null,\"content\":\" management\",\"end_mark\":false,\"system_msg\":null,\"dialog_id\":\"3fc894d4-9f87-a097-0a87-678d55f3f872\",\"req_id\":\"0a48d1a6-7ba5-4357-8a29-eaabc169b9e5\",\"llm_model_used\":null}\n",
      "\n",
      "data:{\"reasoning_content\":null,\"content\":\" of scenarios\",\"end_mark\":false,\"system_msg\":null,\"dialog_id\":\"3fc894d4-9f87-a097-0a87-678d55f3f872\",\"req_id\":\"0a48d1a6-7ba5-4357-8a29-eaabc169b9e5\",\"llm_model_used\":null}\n",
      "\n",
      "data:{\"reasoning_content\":null,\"content\":\", dashboards\",\"end_mark\":false,\"system_msg\":null,\"dialog_id\":\"3fc894d4-9f87-a097-0a87-678d55f3f872\",\"req_id\":\"0a48d1a6-7ba5-4357-8a29-eaabc169b9e5\",\"llm_model_used\":null}\n",
      "\n",
      "data:{\"reasoning_content\":null,\"content\":\", data, users\",\"end_mark\":false,\"system_msg\":null,\"dialog_id\":\"3fc894d4-9f87-a097-0a87-678d55f3f872\",\"req_id\":\"0a48d1a6-7ba5-4357-8a29-eaabc169b9e5\",\"llm_model_used\":null}\n",
      "\n",
      "data:{\"reasoning_content\":null,\"content\":\" and roles\",\"end_mark\":false,\"system_msg\":null,\"dialog_id\":\"3fc894d4-9f87-a097-0a87-678d55f3f872\",\"req_id\":\"0a48d1a6-7ba5-4357-8a29-eaabc169b9e5\",\"llm_model_used\":null}\n",
      "\n",
      "data:{\"reasoning_content\":null,\"content\":\"\\\\n\\\\nFunctional\",\"end_mark\":false,\"system_msg\":null,\"dialog_id\":\"3fc894d4-9f87-a097-0a87-678d55f3f872\",\"req_id\":\"0a48d1a6-7ba5-4357-8a29-eaabc169b9e5\",\"llm_model_used\":null}\n",
      "\n",
      "data:{\"reasoning_content\":null,\"content\":\" Requirements\",\"end_mark\":false,\"system_msg\":null,\"dialog_id\":\"3fc894d4-9f87-a097-0a87-678d55f3f872\",\"req_id\":\"0a48d1a6-7ba5-4357-8a29-eaabc169b9e5\",\"llm_model_used\":null}\n",
      "\n",
      "data:{\"reasoning_content\":null,\"content\":\":\\\\n- Integ\",\"end_mark\":false,\"system_msg\":null,\"dialog_id\":\"3fc894d4-9f87-a097-0a87-678d55f3f872\",\"req_id\":\"0a48d1a6-7ba5-4357-8a29-eaabc169b9e5\",\"llm_model_used\":null}\n",
      "\n",
      "data:{\"reasoning_content\":null,\"content\":\"rate scenario\",\"end_mark\":false,\"system_msg\":null,\"dialog_id\":\"3fc894d4-9f87-a097-0a87-678d55f3f872\",\"req_id\":\"0a48d1a6-7ba5-4357-8a29-eaabc169b9e5\",\"llm_model_used\":null}\n",
      "\n",
      "data:{\"reasoning_content\":null,\"content\":\" repository\",\"end_mark\":false,\"system_msg\":null,\"dialog_id\":\"3fc894d4-9f87-a097-0a87-678d55f3f872\",\"req_id\":\"0a48d1a6-7ba5-4357-8a29-eaabc169b9e5\",\"llm_model_used\":null}\n",
      "\n",
      "data:{\"reasoning_content\":null,\"content\":\" from i-Park\",\"end_mark\":false,\"system_msg\":null,\"dialog_id\":\"3fc894d4-9f87-a097-0a87-678d55f3f872\",\"req_id\":\"0a48d1a6-7ba5-4357-8a29-eaabc169b9e5\",\"llm_model_used\":null}\n",
      "\n",
      "data:{\"reasoning_content\":null,\"content\":\" SmartLink\",\"end_mark\":false,\"system_msg\":null,\"dialog_id\":\"3fc894d4-9f87-a097-0a87-678d55f3f872\",\"req_id\":\"0a48d1a6-7ba5-4357-8a29-eaabc169b9e5\",\"llm_model_used\":null}\n",
      "\n",
      "data:{\"reasoning_content\":null,\"content\":\"\\\\n- Provide\",\"end_mark\":false,\"system_msg\":null,\"dialog_id\":\"3fc894d4-9f87-a097-0a87-678d55f3f872\",\"req_id\":\"0a48d1a6-7ba5-4357-8a29-eaabc169b9e5\",\"llm_model_used\":null}\n",
      "\n",
      "data:{\"reasoning_content\":null,\"content\":\" reference\",\"end_mark\":false,\"system_msg\":null,\"dialog_id\":\"3fc894d4-9f87-a097-0a87-678d55f3f872\",\"req_id\":\"0a48d1a6-7ba5-4357-8a29-eaabc169b9e5\",\"llm_model_used\":null}\n",
      "\n",
      "data:{\"reasoning_content\":null,\"content\":\" scenarios\",\"end_mark\":false,\"system_msg\":null,\"dialog_id\":\"3fc894d4-9f87-a097-0a87-678d55f3f872\",\"req_id\":\"0a48d1a6-7ba5-4357-8a29-eaabc169b9e5\",\"llm_model_used\":null}\n",
      "\n",
      "data:{\"reasoning_content\":null,\"content\":\" for common\",\"end_mark\":false,\"system_msg\":null,\"dialog_id\":\"3fc894d4-9f87-a097-0a87-678d55f3f872\",\"req_id\":\"0a48d1a6-7ba5-4357-8a29-eaabc169b9e5\",\"llm_model_used\":null}\n",
      "\n",
      "data:{\"reasoning_content\":null,\"content\":\" data center\",\"end_mark\":false,\"system_msg\":null,\"dialog_id\":\"3fc894d4-9f87-a097-0a87-678d55f3f872\",\"req_id\":\"0a48d1a6-7ba5-4357-8a29-eaabc169b9e5\",\"llm_model_used\":null}\n",
      "\n",
      "data:{\"reasoning_content\":null,\"content\":\" monitoring\",\"end_mark\":false,\"system_msg\":null,\"dialog_id\":\"3fc894d4-9f87-a097-0a87-678d55f3f872\",\"req_id\":\"0a48d1a6-7ba5-4357-8a29-eaabc169b9e5\",\"llm_model_used\":null}\n",
      "\n",
      "data:{\"reasoning_content\":null,\"content\":\" use cases\",\"end_mark\":false,\"system_msg\":null,\"dialog_id\":\"3fc894d4-9f87-a097-0a87-678d55f3f872\",\"req_id\":\"0a48d1a6-7ba5-4357-8a29-eaabc169b9e5\",\"llm_model_used\":null}\n",
      "\n",
      "data:{\"reasoning_content\":null,\"content\":\"\\\\n- Support\",\"end_mark\":false,\"system_msg\":null,\"dialog_id\":\"3fc894d4-9f87-a097-0a87-678d55f3f872\",\"req_id\":\"0a48d1a6-7ba5-4357-8a29-eaabc169b9e5\",\"llm_model_used\":null}\n",
      "\n",
      "data:{\"reasoning_content\":null,\"content\":\" reuse of scenario\",\"end_mark\":false,\"system_msg\":null,\"dialog_id\":\"3fc894d4-9f87-a097-0a87-678d55f3f872\",\"req_id\":\"0a48d1a6-7ba5-4357-8a29-eaabc169b9e5\",\"llm_model_used\":null}\n",
      "\n",
      "data:{\"reasoning_content\":null,\"content\":\" components\",\"end_mark\":false,\"system_msg\":null,\"dialog_id\":\"3fc894d4-9f87-a097-0a87-678d55f3f872\",\"req_id\":\"0a48d1a6-7ba5-4357-8a29-eaabc169b9e5\",\"llm_model_used\":null}\n",
      "\n",
      "data:{\"reasoning_content\":null,\"content\":\" to accelerate\",\"end_mark\":false,\"system_msg\":null,\"dialog_id\":\"3fc894d4-9f87-a097-0a87-678d55f3f872\",\"req_id\":\"0a48d1a6-7ba5-4357-8a29-eaabc169b9e5\",\"llm_model_used\":null}\n",
      "\n",
      "data:{\"reasoning_content\":null,\"content\":\" dashboard\",\"end_mark\":false,\"system_msg\":null,\"dialog_id\":\"3fc894d4-9f87-a097-0a87-678d55f3f872\",\"req_id\":\"0a48d1a6-7ba5-4357-8a29-eaabc169b9e5\",\"llm_model_used\":null}\n",
      "\n",
      "data:{\"reasoning_content\":null,\"content\":\" implementation\",\"end_mark\":false,\"system_msg\":null,\"dialog_id\":\"3fc894d4-9f87-a097-0a87-678d55f3f872\",\"req_id\":\"0a48d1a6-7ba5-4357-8a29-eaabc169b9e5\",\"llm_model_used\":null}\n",
      "\n",
      "data:{\"reasoning_content\":null,\"content\":\"\\\",\\n  \\\"assign\",\"end_mark\":false,\"system_msg\":null,\"dialog_id\":\"3fc894d4-9f87-a097-0a87-678d55f3f872\",\"req_id\":\"0a48d1a6-7ba5-4357-8a29-eaabc169b9e5\",\"llm_model_used\":null}\n",
      "\n",
      "data:{\"reasoning_content\":null,\"content\":\"ee\\\": \\\"\\\"\\n}\\n\",\"end_mark\":false,\"system_msg\":null,\"dialog_id\":\"3fc894d4-9f87-a097-0a87-678d55f3f872\",\"req_id\":\"0a48d1a6-7ba5-4357-8a29-eaabc169b9e5\",\"llm_model_used\":null}\n",
      "\n",
      "data:{\"reasoning_content\":null,\"content\":\"```\",\"end_mark\":false,\"system_msg\":null,\"dialog_id\":\"3fc894d4-9f87-a097-0a87-678d55f3f872\",\"req_id\":\"0a48d1a6-7ba5-4357-8a29-eaabc169b9e5\",\"llm_model_used\":null}\n",
      "\n",
      "data:{\"reasoning_content\":null,\"content\":\"\\n[|END|]\",\"end_mark\":true,\"system_msg\":null,\"dialog_id\":\"3fc894d4-9f87-a097-0a87-678d55f3f872\",\"req_id\":\"0a48d1a6-7ba5-4357-8a29-eaabc169b9e5\",\"llm_model_used\":null}\n",
      "\n",
      "\n"
     ]
    }
   ],
   "source": [
    "import time\n",
    "import requests\n",
    "import json\n",
    "\n",
    "url = \"https://www.srdcloud.cn/api/agilebackend/mission/react_task\"\n",
    "    \n",
    "payload = json.dumps({\"dialog_id\":\"3fc894d4-9f87-a097-0a87-678d55f3f872\",\"msg\":\"1. Background and Requirements\\nTo meet the self-service monitoring needs of IDC users, it is necessary to build a self-service large-screen monitoring platform tailored for IDC data center users. The platform will integrate the capabilities of the i-Park SmartLink application to achieve data collection, cleaning, storage, and comprehensive management of scenarios, dashboards, data, users, and roles, providing users with efficient and intuitive large-screen monitoring services.\\n\\n2. Functional Requirements\\nIntegrate the scenario repository capability of the i-Park SmartLink application to provide reference scenarios for common data center monitoring use cases. Support reuse of scenario components to accelerate the realization of users' dashboard requirements.\",\"retry_last_round\":False,\"previous_work_items\":[]})\n",
    "# 需要变动 sessionid   userid(后续不变）    x-dup-id  Cookie'\n",
    "headers = {\n",
    "    'Host': 'www.srdcloud.cn',\n",
    "    'pragma': 'no-cache',\n",
    "    'projectId': '75945',##\n",
    "    'sessionid': '1eb23433-b618-4515-ac07-6c809a4465c9',\n",
    "    'userId': '428801',##\n",
    "    'x-dup-id': '1755162319-llvop94h',\n",
    "    'Cookie': '_pk_id.5.136f=389e611a3363ca0d.1754545408.; _pk_id.8.136f=5b71364bf6f7490d.1754547001.; _pk_id.9.136f=71d62570514ea50f.1754553005.; fp=84b4a8b0b8038ed001d1a0154a318f93; _pk_id.3.136f=ab31da71dbd49a90.1755140267.; _pk_id.6.136f=686a64ee4f53aa95.1755150471.; uvId=4b001f62-4530-4338-9c7d-a6be338ed83f; sidebar_status=closed; srdcloud.cn=HttpOnly; _pk_ref..136f=%5B%22%22%2C%22%22%2C1755161584%2C%22https%3A%2F%2Fopen.e.189.cn%2F%22%5D; _pk_ses.9.136f=1; prodtoken=b12ecfb2-643e-45e4-a891-b7f71fd9a8fc; produserId=428801; CTWIMAPPDPGSSOCookie=b12ecfb2-643e-45e4-a891-b7f71fd9a8fc; CTWIMAPPDPGSSOUser=srd18964600668',\n",
    "    'content-type': 'application/json'\n",
    "}\n",
    "\n",
    "response = requests.request(\"POST\", url, headers=headers, data=payload)\n",
    "\n",
    "print(response.text)"
   ]
  },
  {
   "cell_type": "code",
   "execution_count": 16,
   "id": "83f30710",
   "metadata": {},
   "outputs": [
    {
     "data": {
      "text/plain": [
       "{'_content': b'data:{\"reasoning_content\":null,\"content\":\"```json\\\\n{\\\\n\",\"end_mark\":false,\"system_msg\":null,\"dialog_id\":\"3fc894d4-9f87-a097-0a87-678d55f3f872\",\"req_id\":\"f023df4c-9e7f-46fc-97e1-320506a6e215\",\"llm_model_used\":null}\\n\\ndata:{\"reasoning_content\":null,\"content\":\"  \\\\\"title\\\\\":\",\"end_mark\":false,\"system_msg\":null,\"dialog_id\":\"3fc894d4-9f87-a097-0a87-678d55f3f872\",\"req_id\":\"f023df4c-9e7f-46fc-97e1-320506a6e215\",\"llm_model_used\":null}\\n\\ndata:{\"reasoning_content\":null,\"content\":\" \\\\\"Build self\",\"end_mark\":false,\"system_msg\":null,\"dialog_id\":\"3fc894d4-9f87-a097-0a87-678d55f3f872\",\"req_id\":\"f023df4c-9e7f-46fc-97e1-320506a6e215\",\"llm_model_used\":null}\\n\\ndata:{\"reasoning_content\":null,\"content\":\"-service large\",\"end_mark\":false,\"system_msg\":null,\"dialog_id\":\"3fc894d4-9f87-a097-0a87-678d55f3f872\",\"req_id\":\"f023df4c-9e7f-46fc-97e1-320506a6e215\",\"llm_model_used\":null}\\n\\ndata:{\"reasoning_content\":null,\"content\":\"-screen monitoring\",\"end_mark\":false,\"system_msg\":null,\"dialog_id\":\"3fc894d4-9f87-a097-0a87-678d55f3f872\",\"req_id\":\"f023df4c-9e7f-46fc-97e1-320506a6e215\",\"llm_model_used\":null}\\n\\ndata:{\"reasoning_content\":null,\"content\":\" platform for\",\"end_mark\":false,\"system_msg\":null,\"dialog_id\":\"3fc894d4-9f87-a097-0a87-678d55f3f872\",\"req_id\":\"f023df4c-9e7f-46fc-97e1-320506a6e215\",\"llm_model_used\":null}\\n\\ndata:{\"reasoning_content\":null,\"content\":\" IDC users\",\"end_mark\":false,\"system_msg\":null,\"dialog_id\":\"3fc894d4-9f87-a097-0a87-678d55f3f872\",\"req_id\":\"f023df4c-9e7f-46fc-97e1-320506a6e215\",\"llm_model_used\":null}\\n\\ndata:{\"reasoning_content\":null,\"content\":\"\\\\\",\\\\n  \\\\\"description\",\"end_mark\":false,\"system_msg\":null,\"dialog_id\":\"3fc894d4-9f87-a097-0a87-678d55f3f872\",\"req_id\":\"f023df4c-9e7f-46fc-97e1-320506a6e215\",\"llm_model_used\":null}\\n\\ndata:{\"reasoning_content\":null,\"content\":\"\\\\\": \\\\\"Background\",\"end_mark\":false,\"system_msg\":null,\"dialog_id\":\"3fc894d4-9f87-a097-0a87-678d55f3f872\",\"req_id\":\"f023df4c-9e7f-46fc-97e1-320506a6e215\",\"llm_model_used\":null}\\n\\ndata:{\"reasoning_content\":null,\"content\":\":\\\\\\\\n- Need to\",\"end_mark\":false,\"system_msg\":null,\"dialog_id\":\"3fc894d4-9f87-a097-0a87-678d55f3f872\",\"req_id\":\"f023df4c-9e7f-46fc-97e1-320506a6e215\",\"llm_model_used\":null}\\n\\ndata:{\"reasoning_content\":null,\"content\":\" meet self\",\"end_mark\":false,\"system_msg\":null,\"dialog_id\":\"3fc894d4-9f87-a097-0a87-678d55f3f872\",\"req_id\":\"f023df4c-9e7f-46fc-97e1-320506a6e215\",\"llm_model_used\":null}\\n\\ndata:{\"reasoning_content\":null,\"content\":\"-service monitoring\",\"end_mark\":false,\"system_msg\":null,\"dialog_id\":\"3fc894d4-9f87-a097-0a87-678d55f3f872\",\"req_id\":\"f023df4c-9e7f-46fc-97e1-320506a6e215\",\"llm_model_used\":null}\\n\\ndata:{\"reasoning_content\":null,\"content\":\" requirements\",\"end_mark\":false,\"system_msg\":null,\"dialog_id\":\"3fc894d4-9f87-a097-0a87-678d55f3f872\",\"req_id\":\"f023df4c-9e7f-46fc-97e1-320506a6e215\",\"llm_model_used\":null}\\n\\ndata:{\"reasoning_content\":null,\"content\":\" of IDC data\",\"end_mark\":false,\"system_msg\":null,\"dialog_id\":\"3fc894d4-9f87-a097-0a87-678d55f3f872\",\"req_id\":\"f023df4c-9e7f-46fc-97e1-320506a6e215\",\"llm_model_used\":null}\\n\\ndata:{\"reasoning_content\":null,\"content\":\" center users\",\"end_mark\":false,\"system_msg\":null,\"dialog_id\":\"3fc894d4-9f87-a097-0a87-678d55f3f872\",\"req_id\":\"f023df4c-9e7f-46fc-97e1-320506a6e215\",\"llm_model_used\":null}\\n\\ndata:{\"reasoning_content\":null,\"content\":\"\\\\\\\\n- Platform\",\"end_mark\":false,\"system_msg\":null,\"dialog_id\":\"3fc894d4-9f87-a097-0a87-678d55f3f872\",\"req_id\":\"f023df4c-9e7f-46fc-97e1-320506a6e215\",\"llm_model_used\":null}\\n\\ndata:{\"reasoning_content\":null,\"content\":\" will integrate\",\"end_mark\":false,\"system_msg\":null,\"dialog_id\":\"3fc894d4-9f87-a097-0a87-678d55f3f872\",\"req_id\":\"f023df4c-9e7f-46fc-97e1-320506a6e215\",\"llm_model_used\":null}\\n\\ndata:{\"reasoning_content\":null,\"content\":\" i-Park Smart\",\"end_mark\":false,\"system_msg\":null,\"dialog_id\":\"3fc894d4-9f87-a097-0a87-678d55f3f872\",\"req_id\":\"f023df4c-9e7f-46fc-97e1-320506a6e215\",\"llm_model_used\":null}\\n\\ndata:{\"reasoning_content\":null,\"content\":\"Link application\",\"end_mark\":false,\"system_msg\":null,\"dialog_id\":\"3fc894d4-9f87-a097-0a87-678d55f3f872\",\"req_id\":\"f023df4c-9e7f-46fc-97e1-320506a6e215\",\"llm_model_used\":null}\\n\\ndata:{\"reasoning_content\":null,\"content\":\" capabilities\",\"end_mark\":false,\"system_msg\":null,\"dialog_id\":\"3fc894d4-9f87-a097-0a87-678d55f3f872\",\"req_id\":\"f023df4c-9e7f-46fc-97e1-320506a6e215\",\"llm_model_used\":null}\\n\\ndata:{\"reasoning_content\":null,\"content\":\"\\\\\\\\n\\\\\\\\nObjectives\",\"end_mark\":false,\"system_msg\":null,\"dialog_id\":\"3fc894d4-9f87-a097-0a87-678d55f3f872\",\"req_id\":\"f023df4c-9e7f-46fc-97e1-320506a6e215\",\"llm_model_used\":null}\\n\\ndata:{\"reasoning_content\":null,\"content\":\":\\\\\\\\n- Provide\",\"end_mark\":false,\"system_msg\":null,\"dialog_id\":\"3fc894d4-9f87-a097-0a87-678d55f3f872\",\"req_id\":\"f023df4c-9e7f-46fc-97e1-320506a6e215\",\"llm_model_used\":null}\\n\\ndata:{\"reasoning_content\":null,\"content\":\" comprehensive\",\"end_mark\":false,\"system_msg\":null,\"dialog_id\":\"3fc894d4-9f87-a097-0a87-678d55f3f872\",\"req_id\":\"f023df4c-9e7f-46fc-97e1-320506a6e215\",\"llm_model_used\":null}\\n\\ndata:{\"reasoning_content\":null,\"content\":\" monitoring\",\"end_mark\":false,\"system_msg\":null,\"dialog_id\":\"3fc894d4-9f87-a097-0a87-678d55f3f872\",\"req_id\":\"f023df4c-9e7f-46fc-97e1-320506a6e215\",\"llm_model_used\":null}\\n\\ndata:{\"reasoning_content\":null,\"content\":\" services through\",\"end_mark\":false,\"system_msg\":null,\"dialog_id\":\"3fc894d4-9f87-a097-0a87-678d55f3f872\",\"req_id\":\"f023df4c-9e7f-46fc-97e1-320506a6e215\",\"llm_model_used\":null}\\n\\ndata:{\"reasoning_content\":null,\"content\":\" large-screen\",\"end_mark\":false,\"system_msg\":null,\"dialog_id\":\"3fc894d4-9f87-a097-0a87-678d55f3f872\",\"req_id\":\"f023df4c-9e7f-46fc-97e1-320506a6e215\",\"llm_model_used\":null}\\n\\ndata:{\"reasoning_content\":null,\"content\":\" interface\",\"end_mark\":false,\"system_msg\":null,\"dialog_id\":\"3fc894d4-9f87-a097-0a87-678d55f3f872\",\"req_id\":\"f023df4c-9e7f-46fc-97e1-320506a6e215\",\"llm_model_used\":null}\\n\\ndata:{\"reasoning_content\":null,\"content\":\"\\\\\\\\n- Enable\",\"end_mark\":false,\"system_msg\":null,\"dialog_id\":\"3fc894d4-9f87-a097-0a87-678d55f3f872\",\"req_id\":\"f023df4c-9e7f-46fc-97e1-320506a6e215\",\"llm_model_used\":null}\\n\\ndata:{\"reasoning_content\":null,\"content\":\" efficient\",\"end_mark\":false,\"system_msg\":null,\"dialog_id\":\"3fc894d4-9f87-a097-0a87-678d55f3f872\",\"req_id\":\"f023df4c-9e7f-46fc-97e1-320506a6e215\",\"llm_model_used\":null}\\n\\ndata:{\"reasoning_content\":null,\"content\":\" data collection\",\"end_mark\":false,\"system_msg\":null,\"dialog_id\":\"3fc894d4-9f87-a097-0a87-678d55f3f872\",\"req_id\":\"f023df4c-9e7f-46fc-97e1-320506a6e215\",\"llm_model_used\":null}\\n\\ndata:{\"reasoning_content\":null,\"content\":\", cleaning\",\"end_mark\":false,\"system_msg\":null,\"dialog_id\":\"3fc894d4-9f87-a097-0a87-678d55f3f872\",\"req_id\":\"f023df4c-9e7f-46fc-97e1-320506a6e215\",\"llm_model_used\":null}\\n\\ndata:{\"reasoning_content\":null,\"content\":\", storage and\",\"end_mark\":false,\"system_msg\":null,\"dialog_id\":\"3fc894d4-9f87-a097-0a87-678d55f3f872\",\"req_id\":\"f023df4c-9e7f-46fc-97e1-320506a6e215\",\"llm_model_used\":null}\\n\\ndata:{\"reasoning_content\":null,\"content\":\" management\",\"end_mark\":false,\"system_msg\":null,\"dialog_id\":\"3fc894d4-9f87-a097-0a87-678d55f3f872\",\"req_id\":\"f023df4c-9e7f-46fc-97e1-320506a6e215\",\"llm_model_used\":null}\\n\\ndata:{\"reasoning_content\":null,\"content\":\"\\\\\\\\n- Support\",\"end_mark\":false,\"system_msg\":null,\"dialog_id\":\"3fc894d4-9f87-a097-0a87-678d55f3f872\",\"req_id\":\"f023df4c-9e7f-46fc-97e1-320506a6e215\",\"llm_model_used\":null}\\n\\ndata:{\"reasoning_content\":null,\"content\":\" management\",\"end_mark\":false,\"system_msg\":null,\"dialog_id\":\"3fc894d4-9f87-a097-0a87-678d55f3f872\",\"req_id\":\"f023df4c-9e7f-46fc-97e1-320506a6e215\",\"llm_model_used\":null}\\n\\ndata:{\"reasoning_content\":null,\"content\":\" of scenarios\",\"end_mark\":false,\"system_msg\":null,\"dialog_id\":\"3fc894d4-9f87-a097-0a87-678d55f3f872\",\"req_id\":\"f023df4c-9e7f-46fc-97e1-320506a6e215\",\"llm_model_used\":null}\\n\\ndata:{\"reasoning_content\":null,\"content\":\", dashboards\",\"end_mark\":false,\"system_msg\":null,\"dialog_id\":\"3fc894d4-9f87-a097-0a87-678d55f3f872\",\"req_id\":\"f023df4c-9e7f-46fc-97e1-320506a6e215\",\"llm_model_used\":null}\\n\\ndata:{\"reasoning_content\":null,\"content\":\", data, users\",\"end_mark\":false,\"system_msg\":null,\"dialog_id\":\"3fc894d4-9f87-a097-0a87-678d55f3f872\",\"req_id\":\"f023df4c-9e7f-46fc-97e1-320506a6e215\",\"llm_model_used\":null}\\n\\ndata:{\"reasoning_content\":null,\"content\":\" and roles\",\"end_mark\":false,\"system_msg\":null,\"dialog_id\":\"3fc894d4-9f87-a097-0a87-678d55f3f872\",\"req_id\":\"f023df4c-9e7f-46fc-97e1-320506a6e215\",\"llm_model_used\":null}\\n\\ndata:{\"reasoning_content\":null,\"content\":\"\\\\\\\\n\\\\\\\\nFunctional\",\"end_mark\":false,\"system_msg\":null,\"dialog_id\":\"3fc894d4-9f87-a097-0a87-678d55f3f872\",\"req_id\":\"f023df4c-9e7f-46fc-97e1-320506a6e215\",\"llm_model_used\":null}\\n\\ndata:{\"reasoning_content\":null,\"content\":\" Requirements\",\"end_mark\":false,\"system_msg\":null,\"dialog_id\":\"3fc894d4-9f87-a097-0a87-678d55f3f872\",\"req_id\":\"f023df4c-9e7f-46fc-97e1-320506a6e215\",\"llm_model_used\":null}\\n\\ndata:{\"reasoning_content\":null,\"content\":\":\\\\\\\\n- Integ\",\"end_mark\":false,\"system_msg\":null,\"dialog_id\":\"3fc894d4-9f87-a097-0a87-678d55f3f872\",\"req_id\":\"f023df4c-9e7f-46fc-97e1-320506a6e215\",\"llm_model_used\":null}\\n\\ndata:{\"reasoning_content\":null,\"content\":\"rate scenario\",\"end_mark\":false,\"system_msg\":null,\"dialog_id\":\"3fc894d4-9f87-a097-0a87-678d55f3f872\",\"req_id\":\"f023df4c-9e7f-46fc-97e1-320506a6e215\",\"llm_model_used\":null}\\n\\ndata:{\"reasoning_content\":null,\"content\":\" repository\",\"end_mark\":false,\"system_msg\":null,\"dialog_id\":\"3fc894d4-9f87-a097-0a87-678d55f3f872\",\"req_id\":\"f023df4c-9e7f-46fc-97e1-320506a6e215\",\"llm_model_used\":null}\\n\\ndata:{\"reasoning_content\":null,\"content\":\" from i-Park\",\"end_mark\":false,\"system_msg\":null,\"dialog_id\":\"3fc894d4-9f87-a097-0a87-678d55f3f872\",\"req_id\":\"f023df4c-9e7f-46fc-97e1-320506a6e215\",\"llm_model_used\":null}\\n\\ndata:{\"reasoning_content\":null,\"content\":\" SmartLink\",\"end_mark\":false,\"system_msg\":null,\"dialog_id\":\"3fc894d4-9f87-a097-0a87-678d55f3f872\",\"req_id\":\"f023df4c-9e7f-46fc-97e1-320506a6e215\",\"llm_model_used\":null}\\n\\ndata:{\"reasoning_content\":null,\"content\":\"\\\\\\\\n- Provide\",\"end_mark\":false,\"system_msg\":null,\"dialog_id\":\"3fc894d4-9f87-a097-0a87-678d55f3f872\",\"req_id\":\"f023df4c-9e7f-46fc-97e1-320506a6e215\",\"llm_model_used\":null}\\n\\ndata:{\"reasoning_content\":null,\"content\":\" reference\",\"end_mark\":false,\"system_msg\":null,\"dialog_id\":\"3fc894d4-9f87-a097-0a87-678d55f3f872\",\"req_id\":\"f023df4c-9e7f-46fc-97e1-320506a6e215\",\"llm_model_used\":null}\\n\\ndata:{\"reasoning_content\":null,\"content\":\" scenarios\",\"end_mark\":false,\"system_msg\":null,\"dialog_id\":\"3fc894d4-9f87-a097-0a87-678d55f3f872\",\"req_id\":\"f023df4c-9e7f-46fc-97e1-320506a6e215\",\"llm_model_used\":null}\\n\\ndata:{\"reasoning_content\":null,\"content\":\" for common\",\"end_mark\":false,\"system_msg\":null,\"dialog_id\":\"3fc894d4-9f87-a097-0a87-678d55f3f872\",\"req_id\":\"f023df4c-9e7f-46fc-97e1-320506a6e215\",\"llm_model_used\":null}\\n\\ndata:{\"reasoning_content\":null,\"content\":\" data center\",\"end_mark\":false,\"system_msg\":null,\"dialog_id\":\"3fc894d4-9f87-a097-0a87-678d55f3f872\",\"req_id\":\"f023df4c-9e7f-46fc-97e1-320506a6e215\",\"llm_model_used\":null}\\n\\ndata:{\"reasoning_content\":null,\"content\":\" monitoring\",\"end_mark\":false,\"system_msg\":null,\"dialog_id\":\"3fc894d4-9f87-a097-0a87-678d55f3f872\",\"req_id\":\"f023df4c-9e7f-46fc-97e1-320506a6e215\",\"llm_model_used\":null}\\n\\ndata:{\"reasoning_content\":null,\"content\":\" use cases\",\"end_mark\":false,\"system_msg\":null,\"dialog_id\":\"3fc894d4-9f87-a097-0a87-678d55f3f872\",\"req_id\":\"f023df4c-9e7f-46fc-97e1-320506a6e215\",\"llm_model_used\":null}\\n\\ndata:{\"reasoning_content\":null,\"content\":\"\\\\\\\\n- Support\",\"end_mark\":false,\"system_msg\":null,\"dialog_id\":\"3fc894d4-9f87-a097-0a87-678d55f3f872\",\"req_id\":\"f023df4c-9e7f-46fc-97e1-320506a6e215\",\"llm_model_used\":null}\\n\\ndata:{\"reasoning_content\":null,\"content\":\" reuse of scenario\",\"end_mark\":false,\"system_msg\":null,\"dialog_id\":\"3fc894d4-9f87-a097-0a87-678d55f3f872\",\"req_id\":\"f023df4c-9e7f-46fc-97e1-320506a6e215\",\"llm_model_used\":null}\\n\\ndata:{\"reasoning_content\":null,\"content\":\" components\",\"end_mark\":false,\"system_msg\":null,\"dialog_id\":\"3fc894d4-9f87-a097-0a87-678d55f3f872\",\"req_id\":\"f023df4c-9e7f-46fc-97e1-320506a6e215\",\"llm_model_used\":null}\\n\\ndata:{\"reasoning_content\":null,\"content\":\" to accelerate\",\"end_mark\":false,\"system_msg\":null,\"dialog_id\":\"3fc894d4-9f87-a097-0a87-678d55f3f872\",\"req_id\":\"f023df4c-9e7f-46fc-97e1-320506a6e215\",\"llm_model_used\":null}\\n\\ndata:{\"reasoning_content\":null,\"content\":\" dashboard\",\"end_mark\":false,\"system_msg\":null,\"dialog_id\":\"3fc894d4-9f87-a097-0a87-678d55f3f872\",\"req_id\":\"f023df4c-9e7f-46fc-97e1-320506a6e215\",\"llm_model_used\":null}\\n\\ndata:{\"reasoning_content\":null,\"content\":\" implementation\",\"end_mark\":false,\"system_msg\":null,\"dialog_id\":\"3fc894d4-9f87-a097-0a87-678d55f3f872\",\"req_id\":\"f023df4c-9e7f-46fc-97e1-320506a6e215\",\"llm_model_used\":null}\\n\\ndata:{\"reasoning_content\":null,\"content\":\"\\\\\",\\\\n  \\\\\"assign\",\"end_mark\":false,\"system_msg\":null,\"dialog_id\":\"3fc894d4-9f87-a097-0a87-678d55f3f872\",\"req_id\":\"f023df4c-9e7f-46fc-97e1-320506a6e215\",\"llm_model_used\":null}\\n\\ndata:{\"reasoning_content\":null,\"content\":\"ee\\\\\": \\\\\"\\\\\"\\\\n}\\\\n\",\"end_mark\":false,\"system_msg\":null,\"dialog_id\":\"3fc894d4-9f87-a097-0a87-678d55f3f872\",\"req_id\":\"f023df4c-9e7f-46fc-97e1-320506a6e215\",\"llm_model_used\":null}\\n\\ndata:{\"reasoning_content\":null,\"content\":\"```\",\"end_mark\":false,\"system_msg\":null,\"dialog_id\":\"3fc894d4-9f87-a097-0a87-678d55f3f872\",\"req_id\":\"f023df4c-9e7f-46fc-97e1-320506a6e215\",\"llm_model_used\":null}\\n\\ndata:{\"reasoning_content\":null,\"content\":\"\\\\n[|END|]\",\"end_mark\":true,\"system_msg\":null,\"dialog_id\":\"3fc894d4-9f87-a097-0a87-678d55f3f872\",\"req_id\":\"f023df4c-9e7f-46fc-97e1-320506a6e215\",\"llm_model_used\":null}\\n\\n',\n",
       " '_content_consumed': True,\n",
       " '_next': None,\n",
       " 'status_code': 200,\n",
       " 'headers': {'Content-Type': 'text/event-stream; charset=utf-8', 'Transfer-Encoding': 'chunked', 'Connection': 'keep-alive', 'Date': 'Fri, 15 Aug 2025 02:19:44 GMT'},\n",
       " 'raw': <urllib3.response.HTTPResponse at 0x7fee18fd6e20>,\n",
       " 'url': 'https://www.srdcloud.cn/api/agilebackend/mission/react_task',\n",
       " 'encoding': 'utf-8',\n",
       " 'history': [],\n",
       " 'reason': 'OK',\n",
       " 'cookies': <RequestsCookieJar[]>,\n",
       " 'elapsed': datetime.timedelta(microseconds=817831),\n",
       " 'request': <PreparedRequest [POST]>,\n",
       " 'connection': <requests.adapters.HTTPAdapter at 0x7fede056adc0>}"
      ]
     },
     "execution_count": 16,
     "metadata": {},
     "output_type": "execute_result"
    }
   ],
   "source": [
    "response.__dict__"
   ]
  },
  {
   "cell_type": "code",
   "execution_count": null,
   "id": "f158961c",
   "metadata": {},
   "outputs": [
    {
     "name": "stdout",
     "output_type": "stream",
     "text": [
      "响应不是 JSON 格式，原始内容： data:{\"reasoning_content\":null,\"content\":\"```json\\n{\\n\",\"end_mark\":false,\"system_msg\":null,\"dialog_id\":\"3fc894d4-9f87-a097-0a87-678d55f3f872\",\"req_id\":\"f023df4c-9e7f-46fc-97e1-320506a6e215\",\"llm_model_used\":null}\n",
      "\n",
      "data:{\"reasoning_content\":null,\"content\":\"  \\\"title\\\":\",\"end_mark\":false,\"system_msg\":null,\"dialog_id\":\"3fc894d4-9f87-a097-0a87-678d55f3f872\",\"req_id\":\"f023df4c-9e7f-46fc-97e1-320506a6e215\",\"llm_model_used\":null}\n",
      "\n",
      "data:{\"reasoning_content\":null,\"content\":\" \\\"Build self\",\"end_mark\":false,\"system_msg\":null,\"dialog_id\":\"3fc894d4-9f87-a097-0a87-678d55f3f872\",\"req_id\":\"f023df4c-9e7f-46fc-97e1-320506a6e215\",\"llm_model_used\":null}\n",
      "\n",
      "data:{\"reasoning_content\":null,\"content\":\"-service large\",\"end_mark\":false,\"system_msg\":null,\"dialog_id\":\"3fc894d4-9f87-a097-0a87-678d55f3f872\",\"req_id\":\"f023df4c-9e7f-46fc-97e1-320506a6e215\",\"llm_model_used\":null}\n",
      "\n",
      "data:{\"reasoning_content\":null,\"content\":\"-screen monitoring\",\"end_mark\":false,\"system_msg\":null,\"dialog_id\":\"3fc894d4-9f87-a097-0a87-678d55f3f872\",\"req_id\":\"f023df4c-9e7f-46fc-97e1-320506a6e215\",\"llm_model_used\":null}\n",
      "\n",
      "data:{\"reasoning_content\":null,\"content\":\" platform for\",\"end_mark\":false,\"system_msg\":null,\"dialog_id\":\"3fc894d4-9f87-a097-0a87-678d55f3f872\",\"req_id\":\"f023df4c-9e7f-46fc-97e1-320506a6e215\",\"llm_model_used\":null}\n",
      "\n",
      "data:{\"reasoning_content\":null,\"content\":\" IDC users\",\"end_mark\":false,\"system_msg\":null,\"dialog_id\":\"3fc894d4-9f87-a097-0a87-678d55f3f872\",\"req_id\":\"f023df4c-9e7f-46fc-97e1-320506a6e215\",\"llm_model_used\":null}\n",
      "\n",
      "data:{\"reasoning_content\":null,\"content\":\"\\\",\\n  \\\"description\",\"end_mark\":false,\"system_msg\":null,\"dialog_id\":\"3fc894d4-9f87-a097-0a87-678d55f3f872\",\"req_id\":\"f023df4c-9e7f-46fc-97e1-320506a6e215\",\"llm_model_used\":null}\n",
      "\n",
      "data:{\"reasoning_content\":null,\"content\":\"\\\": \\\"Background\",\"end_mark\":false,\"system_msg\":null,\"dialog_id\":\"3fc894d4-9f87-a097-0a87-678d55f3f872\",\"req_id\":\"f023df4c-9e7f-46fc-97e1-320506a6e215\",\"llm_model_used\":null}\n",
      "\n",
      "data:{\"reasoning_content\":null,\"content\":\":\\\\n- Need to\",\"end_mark\":false,\"system_msg\":null,\"dialog_id\":\"3fc894d4-9f87-a097-0a87-678d55f3f872\",\"req_id\":\"f023df4c-9e7f-46fc-97e1-320506a6e215\",\"llm_model_used\":null}\n",
      "\n",
      "data:{\"reasoning_content\":null,\"content\":\" meet self\",\"end_mark\":false,\"system_msg\":null,\"dialog_id\":\"3fc894d4-9f87-a097-0a87-678d55f3f872\",\"req_id\":\"f023df4c-9e7f-46fc-97e1-320506a6e215\",\"llm_model_used\":null}\n",
      "\n",
      "data:{\"reasoning_content\":null,\"content\":\"-service monitoring\",\"end_mark\":false,\"system_msg\":null,\"dialog_id\":\"3fc894d4-9f87-a097-0a87-678d55f3f872\",\"req_id\":\"f023df4c-9e7f-46fc-97e1-320506a6e215\",\"llm_model_used\":null}\n",
      "\n",
      "data:{\"reasoning_content\":null,\"content\":\" requirements\",\"end_mark\":false,\"system_msg\":null,\"dialog_id\":\"3fc894d4-9f87-a097-0a87-678d55f3f872\",\"req_id\":\"f023df4c-9e7f-46fc-97e1-320506a6e215\",\"llm_model_used\":null}\n",
      "\n",
      "data:{\"reasoning_content\":null,\"content\":\" of IDC data\",\"end_mark\":false,\"system_msg\":null,\"dialog_id\":\"3fc894d4-9f87-a097-0a87-678d55f3f872\",\"req_id\":\"f023df4c-9e7f-46fc-97e1-320506a6e215\",\"llm_model_used\":null}\n",
      "\n",
      "data:{\"reasoning_content\":null,\"content\":\" center users\",\"end_mark\":false,\"system_msg\":null,\"dialog_id\":\"3fc894d4-9f87-a097-0a87-678d55f3f872\",\"req_id\":\"f023df4c-9e7f-46fc-97e1-320506a6e215\",\"llm_model_used\":null}\n",
      "\n",
      "data:{\"reasoning_content\":null,\"content\":\"\\\\n- Platform\",\"end_mark\":false,\"system_msg\":null,\"dialog_id\":\"3fc894d4-9f87-a097-0a87-678d55f3f872\",\"req_id\":\"f023df4c-9e7f-46fc-97e1-320506a6e215\",\"llm_model_used\":null}\n",
      "\n",
      "data:{\"reasoning_content\":null,\"content\":\" will integrate\",\"end_mark\":false,\"system_msg\":null,\"dialog_id\":\"3fc894d4-9f87-a097-0a87-678d55f3f872\",\"req_id\":\"f023df4c-9e7f-46fc-97e1-320506a6e215\",\"llm_model_used\":null}\n",
      "\n",
      "data:{\"reasoning_content\":null,\"content\":\" i-Park Smart\",\"end_mark\":false,\"system_msg\":null,\"dialog_id\":\"3fc894d4-9f87-a097-0a87-678d55f3f872\",\"req_id\":\"f023df4c-9e7f-46fc-97e1-320506a6e215\",\"llm_model_used\":null}\n",
      "\n",
      "data:{\"reasoning_content\":null,\"content\":\"Link application\",\"end_mark\":false,\"system_msg\":null,\"dialog_id\":\"3fc894d4-9f87-a097-0a87-678d55f3f872\",\"req_id\":\"f023df4c-9e7f-46fc-97e1-320506a6e215\",\"llm_model_used\":null}\n",
      "\n",
      "data:{\"reasoning_content\":null,\"content\":\" capabilities\",\"end_mark\":false,\"system_msg\":null,\"dialog_id\":\"3fc894d4-9f87-a097-0a87-678d55f3f872\",\"req_id\":\"f023df4c-9e7f-46fc-97e1-320506a6e215\",\"llm_model_used\":null}\n",
      "\n",
      "data:{\"reasoning_content\":null,\"content\":\"\\\\n\\\\nObjectives\",\"end_mark\":false,\"system_msg\":null,\"dialog_id\":\"3fc894d4-9f87-a097-0a87-678d55f3f872\",\"req_id\":\"f023df4c-9e7f-46fc-97e1-320506a6e215\",\"llm_model_used\":null}\n",
      "\n",
      "data:{\"reasoning_content\":null,\"content\":\":\\\\n- Provide\",\"end_mark\":false,\"system_msg\":null,\"dialog_id\":\"3fc894d4-9f87-a097-0a87-678d55f3f872\",\"req_id\":\"f023df4c-9e7f-46fc-97e1-320506a6e215\",\"llm_model_used\":null}\n",
      "\n",
      "data:{\"reasoning_content\":null,\"content\":\" comprehensive\",\"end_mark\":false,\"system_msg\":null,\"dialog_id\":\"3fc894d4-9f87-a097-0a87-678d55f3f872\",\"req_id\":\"f023df4c-9e7f-46fc-97e1-320506a6e215\",\"llm_model_used\":null}\n",
      "\n",
      "data:{\"reasoning_content\":null,\"content\":\" monitoring\",\"end_mark\":false,\"system_msg\":null,\"dialog_id\":\"3fc894d4-9f87-a097-0a87-678d55f3f872\",\"req_id\":\"f023df4c-9e7f-46fc-97e1-320506a6e215\",\"llm_model_used\":null}\n",
      "\n",
      "data:{\"reasoning_content\":null,\"content\":\" services through\",\"end_mark\":false,\"system_msg\":null,\"dialog_id\":\"3fc894d4-9f87-a097-0a87-678d55f3f872\",\"req_id\":\"f023df4c-9e7f-46fc-97e1-320506a6e215\",\"llm_model_used\":null}\n",
      "\n",
      "data:{\"reasoning_content\":null,\"content\":\" large-screen\",\"end_mark\":false,\"system_msg\":null,\"dialog_id\":\"3fc894d4-9f87-a097-0a87-678d55f3f872\",\"req_id\":\"f023df4c-9e7f-46fc-97e1-320506a6e215\",\"llm_model_used\":null}\n",
      "\n",
      "data:{\"reasoning_content\":null,\"content\":\" interface\",\"end_mark\":false,\"system_msg\":null,\"dialog_id\":\"3fc894d4-9f87-a097-0a87-678d55f3f872\",\"req_id\":\"f023df4c-9e7f-46fc-97e1-320506a6e215\",\"llm_model_used\":null}\n",
      "\n",
      "data:{\"reasoning_content\":null,\"content\":\"\\\\n- Enable\",\"end_mark\":false,\"system_msg\":null,\"dialog_id\":\"3fc894d4-9f87-a097-0a87-678d55f3f872\",\"req_id\":\"f023df4c-9e7f-46fc-97e1-320506a6e215\",\"llm_model_used\":null}\n",
      "\n",
      "data:{\"reasoning_content\":null,\"content\":\" efficient\",\"end_mark\":false,\"system_msg\":null,\"dialog_id\":\"3fc894d4-9f87-a097-0a87-678d55f3f872\",\"req_id\":\"f023df4c-9e7f-46fc-97e1-320506a6e215\",\"llm_model_used\":null}\n",
      "\n",
      "data:{\"reasoning_content\":null,\"content\":\" data collection\",\"end_mark\":false,\"system_msg\":null,\"dialog_id\":\"3fc894d4-9f87-a097-0a87-678d55f3f872\",\"req_id\":\"f023df4c-9e7f-46fc-97e1-320506a6e215\",\"llm_model_used\":null}\n",
      "\n",
      "data:{\"reasoning_content\":null,\"content\":\", cleaning\",\"end_mark\":false,\"system_msg\":null,\"dialog_id\":\"3fc894d4-9f87-a097-0a87-678d55f3f872\",\"req_id\":\"f023df4c-9e7f-46fc-97e1-320506a6e215\",\"llm_model_used\":null}\n",
      "\n",
      "data:{\"reasoning_content\":null,\"content\":\", storage and\",\"end_mark\":false,\"system_msg\":null,\"dialog_id\":\"3fc894d4-9f87-a097-0a87-678d55f3f872\",\"req_id\":\"f023df4c-9e7f-46fc-97e1-320506a6e215\",\"llm_model_used\":null}\n",
      "\n",
      "data:{\"reasoning_content\":null,\"content\":\" management\",\"end_mark\":false,\"system_msg\":null,\"dialog_id\":\"3fc894d4-9f87-a097-0a87-678d55f3f872\",\"req_id\":\"f023df4c-9e7f-46fc-97e1-320506a6e215\",\"llm_model_used\":null}\n",
      "\n",
      "data:{\"reasoning_content\":null,\"content\":\"\\\\n- Support\",\"end_mark\":false,\"system_msg\":null,\"dialog_id\":\"3fc894d4-9f87-a097-0a87-678d55f3f872\",\"req_id\":\"f023df4c-9e7f-46fc-97e1-320506a6e215\",\"llm_model_used\":null}\n",
      "\n",
      "data:{\"reasoning_content\":null,\"content\":\" management\",\"end_mark\":false,\"system_msg\":null,\"dialog_id\":\"3fc894d4-9f87-a097-0a87-678d55f3f872\",\"req_id\":\"f023df4c-9e7f-46fc-97e1-320506a6e215\",\"llm_model_used\":null}\n",
      "\n",
      "data:{\"reasoning_content\":null,\"content\":\" of scenarios\",\"end_mark\":false,\"system_msg\":null,\"dialog_id\":\"3fc894d4-9f87-a097-0a87-678d55f3f872\",\"req_id\":\"f023df4c-9e7f-46fc-97e1-320506a6e215\",\"llm_model_used\":null}\n",
      "\n",
      "data:{\"reasoning_content\":null,\"content\":\", dashboards\",\"end_mark\":false,\"system_msg\":null,\"dialog_id\":\"3fc894d4-9f87-a097-0a87-678d55f3f872\",\"req_id\":\"f023df4c-9e7f-46fc-97e1-320506a6e215\",\"llm_model_used\":null}\n",
      "\n",
      "data:{\"reasoning_content\":null,\"content\":\", data, users\",\"end_mark\":false,\"system_msg\":null,\"dialog_id\":\"3fc894d4-9f87-a097-0a87-678d55f3f872\",\"req_id\":\"f023df4c-9e7f-46fc-97e1-320506a6e215\",\"llm_model_used\":null}\n",
      "\n",
      "data:{\"reasoning_content\":null,\"content\":\" and roles\",\"end_mark\":false,\"system_msg\":null,\"dialog_id\":\"3fc894d4-9f87-a097-0a87-678d55f3f872\",\"req_id\":\"f023df4c-9e7f-46fc-97e1-320506a6e215\",\"llm_model_used\":null}\n",
      "\n",
      "data:{\"reasoning_content\":null,\"content\":\"\\\\n\\\\nFunctional\",\"end_mark\":false,\"system_msg\":null,\"dialog_id\":\"3fc894d4-9f87-a097-0a87-678d55f3f872\",\"req_id\":\"f023df4c-9e7f-46fc-97e1-320506a6e215\",\"llm_model_used\":null}\n",
      "\n",
      "data:{\"reasoning_content\":null,\"content\":\" Requirements\",\"end_mark\":false,\"system_msg\":null,\"dialog_id\":\"3fc894d4-9f87-a097-0a87-678d55f3f872\",\"req_id\":\"f023df4c-9e7f-46fc-97e1-320506a6e215\",\"llm_model_used\":null}\n",
      "\n",
      "data:{\"reasoning_content\":null,\"content\":\":\\\\n- Integ\",\"end_mark\":false,\"system_msg\":null,\"dialog_id\":\"3fc894d4-9f87-a097-0a87-678d55f3f872\",\"req_id\":\"f023df4c-9e7f-46fc-97e1-320506a6e215\",\"llm_model_used\":null}\n",
      "\n",
      "data:{\"reasoning_content\":null,\"content\":\"rate scenario\",\"end_mark\":false,\"system_msg\":null,\"dialog_id\":\"3fc894d4-9f87-a097-0a87-678d55f3f872\",\"req_id\":\"f023df4c-9e7f-46fc-97e1-320506a6e215\",\"llm_model_used\":null}\n",
      "\n",
      "data:{\"reasoning_content\":null,\"content\":\" repository\",\"end_mark\":false,\"system_msg\":null,\"dialog_id\":\"3fc894d4-9f87-a097-0a87-678d55f3f872\",\"req_id\":\"f023df4c-9e7f-46fc-97e1-320506a6e215\",\"llm_model_used\":null}\n",
      "\n",
      "data:{\"reasoning_content\":null,\"content\":\" from i-Park\",\"end_mark\":false,\"system_msg\":null,\"dialog_id\":\"3fc894d4-9f87-a097-0a87-678d55f3f872\",\"req_id\":\"f023df4c-9e7f-46fc-97e1-320506a6e215\",\"llm_model_used\":null}\n",
      "\n",
      "data:{\"reasoning_content\":null,\"content\":\" SmartLink\",\"end_mark\":false,\"system_msg\":null,\"dialog_id\":\"3fc894d4-9f87-a097-0a87-678d55f3f872\",\"req_id\":\"f023df4c-9e7f-46fc-97e1-320506a6e215\",\"llm_model_used\":null}\n",
      "\n",
      "data:{\"reasoning_content\":null,\"content\":\"\\\\n- Provide\",\"end_mark\":false,\"system_msg\":null,\"dialog_id\":\"3fc894d4-9f87-a097-0a87-678d55f3f872\",\"req_id\":\"f023df4c-9e7f-46fc-97e1-320506a6e215\",\"llm_model_used\":null}\n",
      "\n",
      "data:{\"reasoning_content\":null,\"content\":\" reference\",\"end_mark\":false,\"system_msg\":null,\"dialog_id\":\"3fc894d4-9f87-a097-0a87-678d55f3f872\",\"req_id\":\"f023df4c-9e7f-46fc-97e1-320506a6e215\",\"llm_model_used\":null}\n",
      "\n",
      "data:{\"reasoning_content\":null,\"content\":\" scenarios\",\"end_mark\":false,\"system_msg\":null,\"dialog_id\":\"3fc894d4-9f87-a097-0a87-678d55f3f872\",\"req_id\":\"f023df4c-9e7f-46fc-97e1-320506a6e215\",\"llm_model_used\":null}\n",
      "\n",
      "data:{\"reasoning_content\":null,\"content\":\" for common\",\"end_mark\":false,\"system_msg\":null,\"dialog_id\":\"3fc894d4-9f87-a097-0a87-678d55f3f872\",\"req_id\":\"f023df4c-9e7f-46fc-97e1-320506a6e215\",\"llm_model_used\":null}\n",
      "\n",
      "data:{\"reasoning_content\":null,\"content\":\" data center\",\"end_mark\":false,\"system_msg\":null,\"dialog_id\":\"3fc894d4-9f87-a097-0a87-678d55f3f872\",\"req_id\":\"f023df4c-9e7f-46fc-97e1-320506a6e215\",\"llm_model_used\":null}\n",
      "\n",
      "data:{\"reasoning_content\":null,\"content\":\" monitoring\",\"end_mark\":false,\"system_msg\":null,\"dialog_id\":\"3fc894d4-9f87-a097-0a87-678d55f3f872\",\"req_id\":\"f023df4c-9e7f-46fc-97e1-320506a6e215\",\"llm_model_used\":null}\n",
      "\n",
      "data:{\"reasoning_content\":null,\"content\":\" use cases\",\"end_mark\":false,\"system_msg\":null,\"dialog_id\":\"3fc894d4-9f87-a097-0a87-678d55f3f872\",\"req_id\":\"f023df4c-9e7f-46fc-97e1-320506a6e215\",\"llm_model_used\":null}\n",
      "\n",
      "data:{\"reasoning_content\":null,\"content\":\"\\\\n- Support\",\"end_mark\":false,\"system_msg\":null,\"dialog_id\":\"3fc894d4-9f87-a097-0a87-678d55f3f872\",\"req_id\":\"f023df4c-9e7f-46fc-97e1-320506a6e215\",\"llm_model_used\":null}\n",
      "\n",
      "data:{\"reasoning_content\":null,\"content\":\" reuse of scenario\",\"end_mark\":false,\"system_msg\":null,\"dialog_id\":\"3fc894d4-9f87-a097-0a87-678d55f3f872\",\"req_id\":\"f023df4c-9e7f-46fc-97e1-320506a6e215\",\"llm_model_used\":null}\n",
      "\n",
      "data:{\"reasoning_content\":null,\"content\":\" components\",\"end_mark\":false,\"system_msg\":null,\"dialog_id\":\"3fc894d4-9f87-a097-0a87-678d55f3f872\",\"req_id\":\"f023df4c-9e7f-46fc-97e1-320506a6e215\",\"llm_model_used\":null}\n",
      "\n",
      "data:{\"reasoning_content\":null,\"content\":\" to accelerate\",\"end_mark\":false,\"system_msg\":null,\"dialog_id\":\"3fc894d4-9f87-a097-0a87-678d55f3f872\",\"req_id\":\"f023df4c-9e7f-46fc-97e1-320506a6e215\",\"llm_model_used\":null}\n",
      "\n",
      "data:{\"reasoning_content\":null,\"content\":\" dashboard\",\"end_mark\":false,\"system_msg\":null,\"dialog_id\":\"3fc894d4-9f87-a097-0a87-678d55f3f872\",\"req_id\":\"f023df4c-9e7f-46fc-97e1-320506a6e215\",\"llm_model_used\":null}\n",
      "\n",
      "data:{\"reasoning_content\":null,\"content\":\" implementation\",\"end_mark\":false,\"system_msg\":null,\"dialog_id\":\"3fc894d4-9f87-a097-0a87-678d55f3f872\",\"req_id\":\"f023df4c-9e7f-46fc-97e1-320506a6e215\",\"llm_model_used\":null}\n",
      "\n",
      "data:{\"reasoning_content\":null,\"content\":\"\\\",\\n  \\\"assign\",\"end_mark\":false,\"system_msg\":null,\"dialog_id\":\"3fc894d4-9f87-a097-0a87-678d55f3f872\",\"req_id\":\"f023df4c-9e7f-46fc-97e1-320506a6e215\",\"llm_model_used\":null}\n",
      "\n",
      "data:{\"reasoning_content\":null,\"content\":\"ee\\\": \\\"\\\"\\n}\\n\",\"end_mark\":false,\"system_msg\":null,\"dialog_id\":\"3fc894d4-9f87-a097-0a87-678d55f3f872\",\"req_id\":\"f023df4c-9e7f-46fc-97e1-320506a6e215\",\"llm_model_used\":null}\n",
      "\n",
      "data:{\"reasoning_content\":null,\"content\":\"```\",\"end_mark\":false,\"system_msg\":null,\"dialog_id\":\"3fc894d4-9f87-a097-0a87-678d55f3f872\",\"req_id\":\"f023df4c-9e7f-46fc-97e1-320506a6e215\",\"llm_model_used\":null}\n",
      "\n",
      "data:{\"reasoning_content\":null,\"content\":\"\\n[|END|]\",\"end_mark\":true,\"system_msg\":null,\"dialog_id\":\"3fc894d4-9f87-a097-0a87-678d55f3f872\",\"req_id\":\"f023df4c-9e7f-46fc-97e1-320506a6e215\",\"llm_model_used\":null}\n",
      "\n",
      "\n"
     ]
    }
   ],
   "source": [
    "import requests\n",
    "\n",
    "# response = requests.request(\"POST\", url, headers=headers, data=payload)\n",
    "\n",
    "if response.status_code == 200:\n",
    "    try:\n",
    "        result = response.json()\n",
    "        print(\"解析结果：\", result)\n",
    "\n",
    "        # 根据实际结构提取数据\n",
    "        # 例如：\n",
    "        # if result.get('success'):\n",
    "        #     print(\"IP地址:\", result['data']['ip'])\n",
    "    except requests.exceptions.JSONDecodeError:\n",
    "        print(\"响应不是 JSON 格式，原始内容：\", response.text)\n",
    "else:\n",
    "    print(\"请求失败，状态码：\", response.status_code)\n",
    "    print(\"错误信息：\", response.text)"
   ]
  },
  {
   "cell_type": "code",
   "execution_count": null,
   "id": "c1137736",
   "metadata": {},
   "outputs": [
    {
     "ename": "IndexError",
     "evalue": "list index out of range",
     "output_type": "error",
     "traceback": [
      "\u001b[0;31m---------------------------------------------------------------------------\u001b[0m",
      "\u001b[0;31mIndexError\u001b[0m                                Traceback (most recent call last)",
      "Cell \u001b[0;32mIn[25], line 3\u001b[0m\n\u001b[1;32m      1\u001b[0m data \u001b[38;5;241m=\u001b[39m {\u001b[38;5;124m\"\u001b[39m\u001b[38;5;124mworkitems\u001b[39m\u001b[38;5;124m\"\u001b[39m:[{\u001b[38;5;124m\"\u001b[39m\u001b[38;5;124mtitle\u001b[39m\u001b[38;5;124m\"\u001b[39m:\u001b[38;5;124m\"\u001b[39m\u001b[38;5;124m集成i-Park智联应用场景仓库能力\u001b[39m\u001b[38;5;124m\"\u001b[39m,\u001b[38;5;124m\"\u001b[39m\u001b[38;5;124mdescription\u001b[39m\u001b[38;5;124m\"\u001b[39m:\u001b[38;5;124m\"\u001b[39m\u001b[38;5;124m背景：<br/>- IDC机房用户需要自服务监控大屏平台<br/>- 需要集成现有i-Park智联应用的场景仓库能力<br/><br/>目标：<br/>- 提供机房监控常见场景参考模板<br/>- 实现场景组件的复用功能<br/><br/>功能描述：<br/>1. 对接i-Park智联应用API获取场景数据<br/>2. 建立机房监控场景分类体系<br/>3. 实现场景模板的预览功能<br/>4. 开发场景组件复用机制\u001b[39m\u001b[38;5;124m\"\u001b[39m,\u001b[38;5;124m\"\u001b[39m\u001b[38;5;124mproject\u001b[39m\u001b[38;5;124m\"\u001b[39m:\u001b[38;5;241m75945\u001b[39m,\u001b[38;5;124m\"\u001b[39m\u001b[38;5;124mworkItemType\u001b[39m\u001b[38;5;124m\"\u001b[39m:\u001b[38;5;241m2\u001b[39m,\u001b[38;5;124m\"\u001b[39m\u001b[38;5;124mstatus\u001b[39m\u001b[38;5;124m\"\u001b[39m:\u001b[38;5;241m1\u001b[39m,\u001b[38;5;124m\"\u001b[39m\u001b[38;5;124mcreateType\u001b[39m\u001b[38;5;124m\"\u001b[39m:\u001b[38;5;241m1\u001b[39m,\u001b[38;5;124m\"\u001b[39m\u001b[38;5;124mpriority\u001b[39m\u001b[38;5;124m\"\u001b[39m:\u001b[38;5;241m2\u001b[39m,\u001b[38;5;124m\"\u001b[39m\u001b[38;5;124mcustomFieldValues\u001b[39m\u001b[38;5;124m\"\u001b[39m:{}},{\u001b[38;5;124m\"\u001b[39m\u001b[38;5;124mtitle\u001b[39m\u001b[38;5;124m\"\u001b[39m:\u001b[38;5;124m\"\u001b[39m\u001b[38;5;124m构建监控大屏基础框架\u001b[39m\u001b[38;5;124m\"\u001b[39m,\u001b[38;5;124m\"\u001b[39m\u001b[38;5;124mdescription\u001b[39m\u001b[38;5;124m\"\u001b[39m:\u001b[38;5;124m\"\u001b[39m\u001b[38;5;124m背景：<br/>- 需要为IDC机房用户提供自服务监控大屏平台<br/><br/>目标：<br/>- 搭建可扩展的监控大屏基础框架<br/><br/>功能描述：<br/>1. 设计并实现大屏布局系统<br/>2. 开发基础组件库（图表、表格等）<br/>3. 实现响应式布局适配不同屏幕尺寸\u001b[39m\u001b[38;5;124m\"\u001b[39m,\u001b[38;5;124m\"\u001b[39m\u001b[38;5;124mproject\u001b[39m\u001b[38;5;124m\"\u001b[39m:\u001b[38;5;241m75945\u001b[39m,\u001b[38;5;124m\"\u001b[39m\u001b[38;5;124mworkItemType\u001b[39m\u001b[38;5;124m\"\u001b[39m:\u001b[38;5;241m2\u001b[39m,\u001b[38;5;124m\"\u001b[39m\u001b[38;5;124mstatus\u001b[39m\u001b[38;5;124m\"\u001b[39m:\u001b[38;5;241m1\u001b[39m,\u001b[38;5;124m\"\u001b[39m\u001b[38;5;124mcreateType\u001b[39m\u001b[38;5;124m\"\u001b[39m:\u001b[38;5;241m1\u001b[39m,\u001b[38;5;124m\"\u001b[39m\u001b[38;5;124mpriority\u001b[39m\u001b[38;5;124m\"\u001b[39m:\u001b[38;5;241m2\u001b[39m,\u001b[38;5;124m\"\u001b[39m\u001b[38;5;124mcustomFieldValues\u001b[39m\u001b[38;5;124m\"\u001b[39m:{}}]}\n\u001b[0;32m----> 3\u001b[0m \u001b[43mdata\u001b[49m\u001b[43m[\u001b[49m\u001b[38;5;124;43m\"\u001b[39;49m\u001b[38;5;124;43mworkitems\u001b[39;49m\u001b[38;5;124;43m\"\u001b[39;49m\u001b[43m]\u001b[49m\u001b[43m[\u001b[49m\u001b[38;5;241;43m2\u001b[39;49m\u001b[43m]\u001b[49m\n",
      "\u001b[0;31mIndexError\u001b[0m: list index out of range"
     ]
    }
   ],
   "source": [
    "data = {\"workitems\":[{\"title\":\"集成i-Park智联应用场景仓库能力\",\"description\":\"背景：<br/>- IDC机房用户需要自服务监控大屏平台<br/>- 需要集成现有i-Park智联应用的场景仓库能力<br/><br/>目标：<br/>- 提供机房监控常见场景参考模板<br/>- 实现场景组件的复用功能<br/><br/>功能描述：<br/>1. 对接i-Park智联应用API获取场景数据<br/>2. 建立机房监控场景分类体系<br/>3. 实现场景模板的预览功能<br/>4. 开发场景组件复用机制\",\"project\":75945,\"workItemType\":2,\"status\":1,\"createType\":1,\"priority\":2,\"customFieldValues\":{}},{\"title\":\"构建监控大屏基础框架\",\"description\":\"背景：<br/>- 需要为IDC机房用户提供自服务监控大屏平台<br/><br/>目标：<br/>- 搭建可扩展的监控大屏基础框架<br/><br/>功能描述：<br/>1. 设计并实现大屏布局系统<br/>2. 开发基础组件库（图表、表格等）<br/>3. 实现响应式布局适配不同屏幕尺寸\",\"project\":75945,\"workItemType\":2,\"status\":1,\"createType\":1,\"priority\":2,\"customFieldValues\":{}}]}"
   ]
  },
  {
   "cell_type": "code",
   "execution_count": 26,
   "id": "859f7806",
   "metadata": {},
   "outputs": [],
   "source": [
    "import requests\n",
    "import json\n",
    "\n",
    "def postData(url,data,headers):\n",
    "    payload = json.dumps(data)\n",
    "    response = requests.request(\"POST\", url, headers=headers, data=payload)\n",
    "    return response\n",
    "\n",
    "url = 'https://www.srdcloud.cn/api/agilebackend/workitem/batchWorkitems'\n",
    "data = {\"workitems\":[{\"title\":\"集成i-Park智联应用场景仓库能力\",\"description\":\"背景：<br/>- IDC机房用户需要自服务监控大屏平台<br/>- 需要集成现有i-Park智联应用的场景仓库能力<br/><br/>目标：<br/>- 提供机房监控常见场景参考模板<br/>- 实现场景组件的复用功能<br/><br/>功能描述：<br/>1. 对接i-Park智联应用API获取场景数据<br/>2. 建立机房监控场景分类体系<br/>3. 实现场景模板的预览功能<br/>4. 开发场景组件复用机制\",\"project\":75945,\"workItemType\":2,\"status\":1,\"createType\":1,\"priority\":2,\"customFieldValues\":{}},{\"title\":\"构建监控大屏基础框架\",\"description\":\"背景：<br/>- 需要为IDC机房用户提供自服务监控大屏平台<br/><br/>目标：<br/>- 搭建可扩展的监控大屏基础框架<br/><br/>功能描述：<br/>1. 设计并实现大屏布局系统<br/>2. 开发基础组件库（图表、表格等）<br/>3. 实现响应式布局适配不同屏幕尺寸\",\"project\":75945,\"workItemType\":2,\"status\":1,\"createType\":1,\"priority\":2,\"customFieldValues\":{}}]}\n",
    "headers = {\n",
    "        'Host': 'www.srdcloud.cn',\n",
    "        'pragma': 'no-cache',\n",
    "        'projectId': '75945',##\n",
    "        # 'sessionid': '1eb23433-b618-4515-ac07-6c809a4465c9',\n",
    "        'userId': '428801',##\n",
    "        # 'x-dup-id': '1755162319-llvop94h',\n",
    "        # 'Cookie': '_pk_id.5.136f=389e611a3363ca0d.1754545408.; _pk_id.8.136f=5b71364bf6f7490d.1754547001.; _pk_id.9.136f=71d62570514ea50f.1754553005.; fp=84b4a8b0b8038ed001d1a0154a318f93; _pk_id.3.136f=ab31da71dbd49a90.1755140267.; _pk_id.6.136f=686a64ee4f53aa95.1755150471.; uvId=4b001f62-4530-4338-9c7d-a6be338ed83f; sidebar_status=closed; srdcloud.cn=HttpOnly; _pk_ref..136f=%5B%22%22%2C%22%22%2C1755161584%2C%22https%3A%2F%2Fopen.e.189.cn%2F%22%5D; _pk_ses.9.136f=1; prodtoken=b12ecfb2-643e-45e4-a891-b7f71fd9a8fc; produserId=428801; CTWIMAPPDPGSSOCookie=b12ecfb2-643e-45e4-a891-b7f71fd9a8fc; CTWIMAPPDPGSSOUser=srd18964600668',\n",
    "        'content-type': 'application/json'\n",
    "    }\n",
    "\n",
    "res = postData(url,data,headers)"
   ]
  },
  {
   "cell_type": "code",
   "execution_count": 28,
   "id": "ff42c0f5",
   "metadata": {},
   "outputs": [
    {
     "data": {
      "text/plain": [
       "'{\"Status\":406,\"Detail\":\"认证失败,可能原因:鉴权字段未传或鉴权路由不匹配\"}'"
      ]
     },
     "execution_count": 28,
     "metadata": {},
     "output_type": "execute_result"
    }
   ],
   "source": [
    "res.text"
   ]
  },
  {
   "cell_type": "code",
   "execution_count": 45,
   "id": "81379c63",
   "metadata": {},
   "outputs": [],
   "source": [
    "import yaml\n",
    "\n",
    "# 读取 YAML 配置文件\n",
    "with open('config.yaml', 'r', encoding='utf-8') as f:\n",
    "    config = yaml.safe_load(f)"
   ]
  },
  {
   "cell_type": "code",
   "execution_count": 33,
   "id": "af72438b",
   "metadata": {},
   "outputs": [
    {
     "data": {
      "text/plain": [
       "{'doc_url': 'https://docs.srdcloud.cn/docs/NJkbEl9MyKh0OoqR',\n",
       " 'user_dir': './edge_user_data',\n",
       " 'browser_path': '/Applications/Microsoft Edge.app/Contents/MacOS/Microsoft Edge',\n",
       " 'web_page': 'https://www.srdcloud.cn/',\n",
       " 'iterations': 2,\n",
       " 'location_item': 'div.ql-editor.notranslate',\n",
       " 'contents': ['c1', 'c2'],\n",
       " 'save_time': 3000,\n",
       " 'sleep_time': 2}"
      ]
     },
     "execution_count": 33,
     "metadata": {},
     "output_type": "execute_result"
    }
   ],
   "source": [
    "config['docEdit']"
   ]
  },
  {
   "cell_type": "code",
   "execution_count": 46,
   "id": "924fc2a0",
   "metadata": {},
   "outputs": [
    {
     "data": {
      "text/plain": [
       "{'repo_path': '/Users/jesse/Project/srdcloud',\n",
       " 'iterations': 2,\n",
       " 'contents': ['c1', 'c2'],\n",
       " 'commit_msg': [['feat', '新增部分车辆数据获取'],\n",
       "  ['feat', '新增部分告警数据获取'],\n",
       "  ['fix', '修改部分车辆数据获取'],\n",
       "  ['fix', '修改部分告警数据获取'],\n",
       "  ['fix', '完善部分车辆数据获取'],\n",
       "  ['fix', '完善部分告警数据获取'],\n",
       "  ['feat', '新增告警数据接口'],\n",
       "  ['feat', '新增车辆道闸数据接口']],\n",
       " 'sleep_time': 10}"
      ]
     },
     "execution_count": 46,
     "metadata": {},
     "output_type": "execute_result"
    }
   ],
   "source": [
    "config['gitCommit']"
   ]
  },
  {
   "cell_type": "code",
   "execution_count": 50,
   "id": "7856e07b",
   "metadata": {},
   "outputs": [
    {
     "data": {
      "text/plain": [
       "{'url': 'https://www.srdcloud.cn/api/tsback/casemanager/v1/add-case',\n",
       " 'data': {'productId': '32687',\n",
       "  'name': '123',\n",
       "  'category': 'function',\n",
       "  'level': 'P1',\n",
       "  'demandId': '-1',\n",
       "  'descType': 'step',\n",
       "  'demandName': '',\n",
       "  'groupId': '127935',\n",
       "  'status': 'draft',\n",
       "  'description': {'preCond': '', 'steps': '', 'expects': '', 'steplist': []},\n",
       "  'annexIds': [],\n",
       "  'testPhase': [],\n",
       "  'externalId': '',\n",
       "  'tagIds': []},\n",
       " 'headers': {'authority': 'www.srdcloud.cn',\n",
       "  'pragma': 'no-cache',\n",
       "  'projectid': '75945',\n",
       "  'sessionid': 'fc74fd8d-639b-4941-878f-d3d97efabe03',\n",
       "  'userid': '428801',\n",
       "  'x-dup-id': '1755160340-qazhxmaiy',\n",
       "  'Cookie': '_pk_id.8.136f=3489c818118ee943.1725241416.; _pk_id.5.136f=1b3e3f31a58e0037.1725241417.; _pk_id.4.136f=0b49a46a7a943210.1725325196.; fp=c94054e345de06e2421e1b1f4942c649; _pk_id.3.136f=923e2f550de8dde0.1734319653.; _pk_ref..136f=%5B%22%22%2C%22%22%2C1747962219%2C%22https%3A%2F%2Fopen.e.189.cn%2F%22%5D; _pk_id.11.136f=c670d85a08784856.1742785487.; prodtoken=0741a5e8-1024-483c-99b8-fb75011bcaed; produserId=264841; CTWIMAPPDPGSSOCookie=0741a5e8-1024-483c-99b8-fb75011bcaed; CTWIMAPPDPGSSOUser=wanghr3; sidebar_status=closed',\n",
       "  'content-type': 'application/json'}}"
      ]
     },
     "execution_count": 50,
     "metadata": {},
     "output_type": "execute_result"
    }
   ],
   "source": [
    "config['testSample']"
   ]
  },
  {
   "cell_type": "code",
   "execution_count": 55,
   "id": "d5c84f95",
   "metadata": {},
   "outputs": [
    {
     "data": {
      "text/plain": [
       "{'title': '构建监控大屏基础框架',\n",
       " 'description': '背景：<br/>- 需要为IDC机房用户提供自服务监控大屏平台<br/><br/>目标：<br/>- 搭建可扩展的监控大屏基础框架<br/><br/>功能描述：<br/>1. 设计并实现大屏布局系统<br/>2. 开发基础组件库（图表、表格等）<br/>3. 实现响应式布局适配不同屏幕尺寸',\n",
       " 'project': 75945,\n",
       " 'workItemType': 2,\n",
       " 'status': 1,\n",
       " 'createType': 1,\n",
       " 'priority': 2,\n",
       " 'customFieldValues': {}}"
      ]
     },
     "execution_count": 55,
     "metadata": {},
     "output_type": "execute_result"
    }
   ],
   "source": [
    "config['workItem']['data']['workitems'][1]"
   ]
  },
  {
   "cell_type": "code",
   "execution_count": null,
   "id": "2c2fe834",
   "metadata": {},
   "outputs": [],
   "source": [
    "import requests\n",
    "\n",
    "# 创建一个会话对象\n",
    "session = requests.Session()\n",
    "\n",
    "# 第一步：访问登录页面（可选，用于获取隐藏字段或初始 Cookie）\n",
    "login_url = \"https://example.com/login\"\n",
    "login_page = session.get(login_url)\n",
    "\n",
    "# 如果登录页面有 CSRF Token 等隐藏字段，需要提取\n",
    "# 例如使用 BeautifulSoup 解析\n",
    "# from bs4 import BeautifulSoup\n",
    "# soup = BeautifulSoup(login_page.text, 'html.parser')\n",
    "# csrf_token = soup.find('input', {'name': 'csrf_token'})['value']\n",
    "\n",
    "# 第二步：发送登录 POST 请求\n",
    "login_data = {\n",
    "    \"username\": \"your_username\",\n",
    "    \"password\": \"your_password\"\n",
    "    # \"csrf_token\": csrf_token  # 如果需要\n",
    "}\n",
    "\n",
    "response = session.post(login_url, data=login_data)\n",
    "\n",
    "# 检查是否登录成功\n",
    "if response.status_code == 200 and \"欢迎\" in response.text:\n",
    "    print(\"登录成功！\")\n",
    "\n",
    "    # 第三步：用同一个 session 发起其他请求（自动携带 Cookie）\n",
    "    protected_page = session.get(\"https://example.com/dashboard\")\n",
    "    print(protected_page.text)\n",
    "else:\n",
    "    print(\"登录失败\")"
   ]
  },
  {
   "cell_type": "code",
   "execution_count": 16,
   "id": "1ba96e77",
   "metadata": {},
   "outputs": [],
   "source": [
    "import yaml\n",
    "\n",
    "# 读取 YAML 配置文件\n",
    "with open('../data/config.yaml', 'r', encoding='utf-8') as f:\n",
    "    configs = yaml.safe_load(f)\n",
    "config = configs['testSample']"
   ]
  },
  {
   "cell_type": "code",
   "execution_count": 17,
   "id": "623d1544",
   "metadata": {},
   "outputs": [
    {
     "name": "stdout",
     "output_type": "stream",
     "text": [
      "{\"id\":\"5159657\",\"optResult\":0}\n",
      "\n",
      "Cookies after POST: {}\n"
     ]
    }
   ],
   "source": [
    "import requests\n",
    "import json\n",
    "\n",
    "# 创建一个会话对象（它会自动管理 Cookie）\n",
    "session = requests.Session()\n",
    "payload = json.dumps(config['data'])\n",
    "# 发起 POST 请求，自动处理 Set-Cookie 并在后续请求中带回 Cookie\n",
    "response = session.request(\"POST\", config['url'], headers=config['headers'], data=payload)\n",
    "print(response.text)\n",
    "# 查看是否成功获取了 Cookie（比如 sessionid）\n",
    "print(\"Cookies after POST:\", dict(session.cookies))"
   ]
  },
  {
   "cell_type": "code",
   "execution_count": 11,
   "id": "02afc441",
   "metadata": {},
   "outputs": [
    {
     "data": {
      "text/plain": [
       "'{\"Status\":423,\"Detail\":\"接口被禁用或存在重放攻击调用\"}'"
      ]
     },
     "execution_count": 11,
     "metadata": {},
     "output_type": "execute_result"
    }
   ],
   "source": [
    "response.text"
   ]
  },
  {
   "cell_type": "code",
   "execution_count": 33,
   "id": "81bdeaaa",
   "metadata": {},
   "outputs": [],
   "source": [
    "import browser_cookie3\n",
    "import requests\n",
    "\n",
    "# 从 Chrome 中加载某网站的 Cookie\n",
    "cj = browser_cookie3.edge(domain_name='https://www.srdcloud.cn/user/UserFront/ProjectWorkspace')\n",
    "# session = requests.Session()\n",
    "# session.cookies = cj\n",
    "\n",
    "# response = session.get(\"https://example.com/dashboard\")\n",
    "# print(response.text)"
   ]
  },
  {
   "cell_type": "code",
   "execution_count": 34,
   "id": "e35a8a41",
   "metadata": {},
   "outputs": [
    {
     "data": {
      "text/plain": [
       "<CookieJar[]>"
      ]
     },
     "execution_count": 34,
     "metadata": {},
     "output_type": "execute_result"
    }
   ],
   "source": [
    "cj"
   ]
  },
  {
   "cell_type": "code",
   "execution_count": 22,
   "id": "5ea9b6c1",
   "metadata": {},
   "outputs": [
    {
     "name": "stdout",
     "output_type": "stream",
     "text": [
      "{\"Status\":400,\"Detail\":\"x-dup-id格式有误\"}\n"
     ]
    }
   ],
   "source": [
    "session = requests.Session()\n",
    "session.cookies = cj\n",
    "\n",
    "response = session.get(\"https://www.srdcloud.cn/api/tsback/casemanager/v1/add-case\")\n",
    "print(response.text)"
   ]
  },
  {
   "cell_type": "code",
   "execution_count": null,
   "id": "4989dc77",
   "metadata": {},
   "outputs": [
    {
     "data": {
      "text/plain": [
       "<CookieJar[]>"
      ]
     },
     "execution_count": 23,
     "metadata": {},
     "output_type": "execute_result"
    }
   ],
   "source": []
  },
  {
   "cell_type": "code",
   "execution_count": 24,
   "id": "c34865be",
   "metadata": {},
   "outputs": [],
   "source": [
    "\n",
    "\n",
    "# 遍历 CookieJar，打印每个 Cookie 的详细信息\n",
    "for cookie in cj:\n",
    "    print(cookie.name, cookie.value, cookie.domain, cookie.path, cookie.expires)"
   ]
  },
  {
   "cell_type": "code",
   "execution_count": 32,
   "id": "974e0a95",
   "metadata": {},
   "outputs": [
    {
     "ename": "ModuleNotFoundError",
     "evalue": "No module named 'blinker._saferef'",
     "output_type": "error",
     "traceback": [
      "\u001b[0;31m---------------------------------------------------------------------------\u001b[0m",
      "\u001b[0;31mModuleNotFoundError\u001b[0m                       Traceback (most recent call last)",
      "Cell \u001b[0;32mIn[32], line 1\u001b[0m\n\u001b[0;32m----> 1\u001b[0m \u001b[38;5;28;01mfrom\u001b[39;00m \u001b[38;5;21;01mseleniumwire\u001b[39;00m \u001b[38;5;28;01mimport\u001b[39;00m webdriver\n\u001b[1;32m      2\u001b[0m \u001b[38;5;28;01mimport\u001b[39;00m \u001b[38;5;21;01mtime\u001b[39;00m\n\u001b[1;32m      4\u001b[0m \u001b[38;5;66;03m# 配置 Edge 选项\u001b[39;00m\n",
      "File \u001b[0;32m~/opt/anaconda3/envs/undergraduate/lib/python3.8/site-packages/seleniumwire/webdriver.py:28\u001b[0m\n\u001b[1;32m     25\u001b[0m \u001b[38;5;28;01mfrom\u001b[39;00m \u001b[38;5;21;01mselenium\u001b[39;00m\u001b[38;5;21;01m.\u001b[39;00m\u001b[38;5;21;01mwebdriver\u001b[39;00m \u001b[38;5;28;01mimport\u001b[39;00m Remote \u001b[38;5;28;01mas\u001b[39;00m _Remote\n\u001b[1;32m     26\u001b[0m \u001b[38;5;28;01mfrom\u001b[39;00m \u001b[38;5;21;01mselenium\u001b[39;00m\u001b[38;5;21;01m.\u001b[39;00m\u001b[38;5;21;01mwebdriver\u001b[39;00m \u001b[38;5;28;01mimport\u001b[39;00m Safari \u001b[38;5;28;01mas\u001b[39;00m _Safari\n\u001b[0;32m---> 28\u001b[0m \u001b[38;5;28;01mfrom\u001b[39;00m \u001b[38;5;21;01mseleniumwire\u001b[39;00m \u001b[38;5;28;01mimport\u001b[39;00m backend, utils\n\u001b[1;32m     29\u001b[0m \u001b[38;5;28;01mfrom\u001b[39;00m \u001b[38;5;21;01mseleniumwire\u001b[39;00m\u001b[38;5;21;01m.\u001b[39;00m\u001b[38;5;21;01minspect\u001b[39;00m \u001b[38;5;28;01mimport\u001b[39;00m InspectRequestsMixin\n\u001b[1;32m     31\u001b[0m SELENIUM_V4 \u001b[38;5;241m=\u001b[39m parse_version(\u001b[38;5;28mgetattr\u001b[39m(selenium, \u001b[38;5;124m'\u001b[39m\u001b[38;5;124m__version__\u001b[39m\u001b[38;5;124m'\u001b[39m, \u001b[38;5;124m'\u001b[39m\u001b[38;5;124m0\u001b[39m\u001b[38;5;124m'\u001b[39m)) \u001b[38;5;241m>\u001b[39m\u001b[38;5;241m=\u001b[39m parse_version(\u001b[38;5;124m'\u001b[39m\u001b[38;5;124m4.0.0\u001b[39m\u001b[38;5;124m'\u001b[39m)\n",
      "File \u001b[0;32m~/opt/anaconda3/envs/undergraduate/lib/python3.8/site-packages/seleniumwire/backend.py:4\u001b[0m\n\u001b[1;32m      1\u001b[0m \u001b[38;5;28;01mimport\u001b[39;00m \u001b[38;5;21;01mlogging\u001b[39;00m\n\u001b[1;32m      2\u001b[0m \u001b[38;5;28;01mimport\u001b[39;00m \u001b[38;5;21;01mthreading\u001b[39;00m\n\u001b[0;32m----> 4\u001b[0m \u001b[38;5;28;01mfrom\u001b[39;00m \u001b[38;5;21;01mseleniumwire\u001b[39;00m\u001b[38;5;21;01m.\u001b[39;00m\u001b[38;5;21;01mserver\u001b[39;00m \u001b[38;5;28;01mimport\u001b[39;00m MitmProxy\n\u001b[1;32m      6\u001b[0m log \u001b[38;5;241m=\u001b[39m logging\u001b[38;5;241m.\u001b[39mgetLogger(\u001b[38;5;18m__name__\u001b[39m)\n\u001b[1;32m      9\u001b[0m \u001b[38;5;28;01mdef\u001b[39;00m \u001b[38;5;21mcreate\u001b[39m(addr\u001b[38;5;241m=\u001b[39m\u001b[38;5;124m'\u001b[39m\u001b[38;5;124m127.0.0.1\u001b[39m\u001b[38;5;124m'\u001b[39m, port\u001b[38;5;241m=\u001b[39m\u001b[38;5;241m0\u001b[39m, options\u001b[38;5;241m=\u001b[39m\u001b[38;5;28;01mNone\u001b[39;00m):\n",
      "File \u001b[0;32m~/opt/anaconda3/envs/undergraduate/lib/python3.8/site-packages/seleniumwire/server.py:5\u001b[0m\n\u001b[1;32m      2\u001b[0m \u001b[38;5;28;01mimport\u001b[39;00m \u001b[38;5;21;01mlogging\u001b[39;00m\n\u001b[1;32m      4\u001b[0m \u001b[38;5;28;01mfrom\u001b[39;00m \u001b[38;5;21;01mseleniumwire\u001b[39;00m \u001b[38;5;28;01mimport\u001b[39;00m storage\n\u001b[0;32m----> 5\u001b[0m \u001b[38;5;28;01mfrom\u001b[39;00m \u001b[38;5;21;01mseleniumwire\u001b[39;00m\u001b[38;5;21;01m.\u001b[39;00m\u001b[38;5;21;01mhandler\u001b[39;00m \u001b[38;5;28;01mimport\u001b[39;00m InterceptRequestHandler\n\u001b[1;32m      6\u001b[0m \u001b[38;5;28;01mfrom\u001b[39;00m \u001b[38;5;21;01mseleniumwire\u001b[39;00m\u001b[38;5;21;01m.\u001b[39;00m\u001b[38;5;21;01mmodifier\u001b[39;00m \u001b[38;5;28;01mimport\u001b[39;00m RequestModifier\n\u001b[1;32m      7\u001b[0m \u001b[38;5;28;01mfrom\u001b[39;00m \u001b[38;5;21;01mseleniumwire\u001b[39;00m\u001b[38;5;21;01m.\u001b[39;00m\u001b[38;5;21;01mthirdparty\u001b[39;00m\u001b[38;5;21;01m.\u001b[39;00m\u001b[38;5;21;01mmitmproxy\u001b[39;00m \u001b[38;5;28;01mimport\u001b[39;00m addons\n",
      "File \u001b[0;32m~/opt/anaconda3/envs/undergraduate/lib/python3.8/site-packages/seleniumwire/handler.py:5\u001b[0m\n\u001b[1;32m      2\u001b[0m \u001b[38;5;28;01mimport\u001b[39;00m \u001b[38;5;21;01mre\u001b[39;00m\n\u001b[1;32m      3\u001b[0m \u001b[38;5;28;01mfrom\u001b[39;00m \u001b[38;5;21;01mdatetime\u001b[39;00m \u001b[38;5;28;01mimport\u001b[39;00m datetime\n\u001b[0;32m----> 5\u001b[0m \u001b[38;5;28;01mfrom\u001b[39;00m \u001b[38;5;21;01mseleniumwire\u001b[39;00m \u001b[38;5;28;01mimport\u001b[39;00m har\n\u001b[1;32m      6\u001b[0m \u001b[38;5;28;01mfrom\u001b[39;00m \u001b[38;5;21;01mseleniumwire\u001b[39;00m\u001b[38;5;21;01m.\u001b[39;00m\u001b[38;5;21;01mrequest\u001b[39;00m \u001b[38;5;28;01mimport\u001b[39;00m Request, Response, WebSocketMessage\n\u001b[1;32m      7\u001b[0m \u001b[38;5;28;01mfrom\u001b[39;00m \u001b[38;5;21;01mseleniumwire\u001b[39;00m\u001b[38;5;21;01m.\u001b[39;00m\u001b[38;5;21;01mthirdparty\u001b[39;00m\u001b[38;5;21;01m.\u001b[39;00m\u001b[38;5;21;01mmitmproxy\u001b[39;00m\u001b[38;5;21;01m.\u001b[39;00m\u001b[38;5;21;01mhttp\u001b[39;00m \u001b[38;5;28;01mimport\u001b[39;00m HTTPResponse\n",
      "File \u001b[0;32m~/opt/anaconda3/envs/undergraduate/lib/python3.8/site-packages/seleniumwire/har.py:11\u001b[0m\n\u001b[1;32m      8\u001b[0m \u001b[38;5;28;01mfrom\u001b[39;00m \u001b[38;5;21;01mtyping\u001b[39;00m \u001b[38;5;28;01mimport\u001b[39;00m List, Set\n\u001b[1;32m     10\u001b[0m \u001b[38;5;28;01mimport\u001b[39;00m \u001b[38;5;21;01mseleniumwire\u001b[39;00m\n\u001b[0;32m---> 11\u001b[0m \u001b[38;5;28;01mfrom\u001b[39;00m \u001b[38;5;21;01mseleniumwire\u001b[39;00m\u001b[38;5;21;01m.\u001b[39;00m\u001b[38;5;21;01mthirdparty\u001b[39;00m\u001b[38;5;21;01m.\u001b[39;00m\u001b[38;5;21;01mmitmproxy\u001b[39;00m \u001b[38;5;28;01mimport\u001b[39;00m connections\n\u001b[1;32m     12\u001b[0m \u001b[38;5;28;01mfrom\u001b[39;00m \u001b[38;5;21;01mseleniumwire\u001b[39;00m\u001b[38;5;21;01m.\u001b[39;00m\u001b[38;5;21;01mthirdparty\u001b[39;00m\u001b[38;5;21;01m.\u001b[39;00m\u001b[38;5;21;01mmitmproxy\u001b[39;00m\u001b[38;5;21;01m.\u001b[39;00m\u001b[38;5;21;01mhttp\u001b[39;00m \u001b[38;5;28;01mimport\u001b[39;00m HTTPFlow\n\u001b[1;32m     13\u001b[0m \u001b[38;5;28;01mfrom\u001b[39;00m \u001b[38;5;21;01mseleniumwire\u001b[39;00m\u001b[38;5;21;01m.\u001b[39;00m\u001b[38;5;21;01mthirdparty\u001b[39;00m\u001b[38;5;21;01m.\u001b[39;00m\u001b[38;5;21;01mmitmproxy\u001b[39;00m\u001b[38;5;21;01m.\u001b[39;00m\u001b[38;5;21;01mnet\u001b[39;00m\u001b[38;5;21;01m.\u001b[39;00m\u001b[38;5;21;01mhttp\u001b[39;00m \u001b[38;5;28;01mimport\u001b[39;00m cookies\n",
      "File \u001b[0;32m~/opt/anaconda3/envs/undergraduate/lib/python3.8/site-packages/seleniumwire/thirdparty/mitmproxy/connections.py:10\u001b[0m\n\u001b[1;32m      7\u001b[0m \u001b[38;5;28;01mimport\u001b[39;00m \u001b[38;5;21;01msocks\u001b[39;00m\n\u001b[1;32m      9\u001b[0m \u001b[38;5;28;01mfrom\u001b[39;00m \u001b[38;5;21;01mseleniumwire\u001b[39;00m\u001b[38;5;21;01m.\u001b[39;00m\u001b[38;5;21;01mthirdparty\u001b[39;00m\u001b[38;5;21;01m.\u001b[39;00m\u001b[38;5;21;01mmitmproxy\u001b[39;00m \u001b[38;5;28;01mimport\u001b[39;00m certs, exceptions, stateobject\n\u001b[0;32m---> 10\u001b[0m \u001b[38;5;28;01mfrom\u001b[39;00m \u001b[38;5;21;01mseleniumwire\u001b[39;00m\u001b[38;5;21;01m.\u001b[39;00m\u001b[38;5;21;01mthirdparty\u001b[39;00m\u001b[38;5;21;01m.\u001b[39;00m\u001b[38;5;21;01mmitmproxy\u001b[39;00m\u001b[38;5;21;01m.\u001b[39;00m\u001b[38;5;21;01mnet\u001b[39;00m \u001b[38;5;28;01mimport\u001b[39;00m tls, tcp\n\u001b[1;32m     11\u001b[0m \u001b[38;5;28;01mfrom\u001b[39;00m \u001b[38;5;21;01mseleniumwire\u001b[39;00m\u001b[38;5;21;01m.\u001b[39;00m\u001b[38;5;21;01mthirdparty\u001b[39;00m\u001b[38;5;21;01m.\u001b[39;00m\u001b[38;5;21;01mmitmproxy\u001b[39;00m\u001b[38;5;21;01m.\u001b[39;00m\u001b[38;5;21;01mutils\u001b[39;00m \u001b[38;5;28;01mimport\u001b[39;00m human, strutils\n\u001b[1;32m     14\u001b[0m \u001b[38;5;28;01mclass\u001b[39;00m \u001b[38;5;21;01mClientConnection\u001b[39;00m(tcp\u001b[38;5;241m.\u001b[39mBaseHandler, stateobject\u001b[38;5;241m.\u001b[39mStateObject):\n",
      "File \u001b[0;32m~/opt/anaconda3/envs/undergraduate/lib/python3.8/site-packages/seleniumwire/thirdparty/mitmproxy/net/tls.py:15\u001b[0m\n\u001b[1;32m     12\u001b[0m \u001b[38;5;28;01mfrom\u001b[39;00m \u001b[38;5;21;01mkaitaistruct\u001b[39;00m \u001b[38;5;28;01mimport\u001b[39;00m KaitaiStream\n\u001b[1;32m     13\u001b[0m \u001b[38;5;28;01mfrom\u001b[39;00m \u001b[38;5;21;01mOpenSSL\u001b[39;00m \u001b[38;5;28;01mimport\u001b[39;00m SSL\n\u001b[0;32m---> 15\u001b[0m \u001b[38;5;28;01mimport\u001b[39;00m \u001b[38;5;21;01mseleniumwire\u001b[39;00m\u001b[38;5;21;01m.\u001b[39;00m\u001b[38;5;21;01mthirdparty\u001b[39;00m\u001b[38;5;21;01m.\u001b[39;00m\u001b[38;5;21;01mmitmproxy\u001b[39;00m\u001b[38;5;21;01m.\u001b[39;00m\u001b[38;5;21;01moptions\u001b[39;00m\n\u001b[1;32m     16\u001b[0m \u001b[38;5;28;01mfrom\u001b[39;00m \u001b[38;5;21;01mseleniumwire\u001b[39;00m\u001b[38;5;21;01m.\u001b[39;00m\u001b[38;5;21;01mthirdparty\u001b[39;00m\u001b[38;5;21;01m.\u001b[39;00m\u001b[38;5;21;01mmitmproxy\u001b[39;00m \u001b[38;5;28;01mimport\u001b[39;00m certs, exceptions\n\u001b[1;32m     17\u001b[0m \u001b[38;5;28;01mfrom\u001b[39;00m \u001b[38;5;21;01mseleniumwire\u001b[39;00m\u001b[38;5;21;01m.\u001b[39;00m\u001b[38;5;21;01mthirdparty\u001b[39;00m\u001b[38;5;21;01m.\u001b[39;00m\u001b[38;5;21;01mmitmproxy\u001b[39;00m\u001b[38;5;21;01m.\u001b[39;00m\u001b[38;5;21;01mcontrib\u001b[39;00m\u001b[38;5;21;01m.\u001b[39;00m\u001b[38;5;21;01mkaitaistruct\u001b[39;00m \u001b[38;5;28;01mimport\u001b[39;00m tls_client_hello\n",
      "File \u001b[0;32m~/opt/anaconda3/envs/undergraduate/lib/python3.8/site-packages/seleniumwire/thirdparty/mitmproxy/options.py:5\u001b[0m\n\u001b[1;32m      2\u001b[0m \u001b[38;5;28;01mimport\u001b[39;00m \u001b[38;5;21;01mtempfile\u001b[39;00m\n\u001b[1;32m      3\u001b[0m \u001b[38;5;28;01mfrom\u001b[39;00m \u001b[38;5;21;01mtyping\u001b[39;00m \u001b[38;5;28;01mimport\u001b[39;00m Optional, Sequence\n\u001b[0;32m----> 5\u001b[0m \u001b[38;5;28;01mfrom\u001b[39;00m \u001b[38;5;21;01mseleniumwire\u001b[39;00m\u001b[38;5;21;01m.\u001b[39;00m\u001b[38;5;21;01mthirdparty\u001b[39;00m\u001b[38;5;21;01m.\u001b[39;00m\u001b[38;5;21;01mmitmproxy\u001b[39;00m \u001b[38;5;28;01mimport\u001b[39;00m optmanager\n\u001b[1;32m      6\u001b[0m \u001b[38;5;28;01mfrom\u001b[39;00m \u001b[38;5;21;01mseleniumwire\u001b[39;00m\u001b[38;5;21;01m.\u001b[39;00m\u001b[38;5;21;01mthirdparty\u001b[39;00m\u001b[38;5;21;01m.\u001b[39;00m\u001b[38;5;21;01mmitmproxy\u001b[39;00m\u001b[38;5;21;01m.\u001b[39;00m\u001b[38;5;21;01mnet\u001b[39;00m \u001b[38;5;28;01mimport\u001b[39;00m tls\n\u001b[1;32m      8\u001b[0m CONF_DIR \u001b[38;5;241m=\u001b[39m os\u001b[38;5;241m.\u001b[39mpath\u001b[38;5;241m.\u001b[39mjoin(tempfile\u001b[38;5;241m.\u001b[39mgettempdir(), \u001b[38;5;124m'\u001b[39m\u001b[38;5;124m.seleniumwire\u001b[39m\u001b[38;5;124m'\u001b[39m)\n",
      "File \u001b[0;32m~/opt/anaconda3/envs/undergraduate/lib/python3.8/site-packages/seleniumwire/thirdparty/mitmproxy/optmanager.py:9\u001b[0m\n\u001b[1;32m      6\u001b[0m \u001b[38;5;28;01mimport\u001b[39;00m \u001b[38;5;21;01mtyping\u001b[39;00m\n\u001b[1;32m      8\u001b[0m \u001b[38;5;28;01mimport\u001b[39;00m \u001b[38;5;21;01mblinker\u001b[39;00m\n\u001b[0;32m----> 9\u001b[0m \u001b[38;5;28;01mimport\u001b[39;00m \u001b[38;5;21;01mblinker\u001b[39;00m\u001b[38;5;21;01m.\u001b[39;00m\u001b[38;5;21;01m_saferef\u001b[39;00m\n\u001b[1;32m     11\u001b[0m \u001b[38;5;28;01mfrom\u001b[39;00m \u001b[38;5;21;01mseleniumwire\u001b[39;00m\u001b[38;5;21;01m.\u001b[39;00m\u001b[38;5;21;01mthirdparty\u001b[39;00m\u001b[38;5;21;01m.\u001b[39;00m\u001b[38;5;21;01mmitmproxy\u001b[39;00m \u001b[38;5;28;01mimport\u001b[39;00m exceptions\n\u001b[1;32m     12\u001b[0m \u001b[38;5;28;01mfrom\u001b[39;00m \u001b[38;5;21;01mseleniumwire\u001b[39;00m\u001b[38;5;21;01m.\u001b[39;00m\u001b[38;5;21;01mthirdparty\u001b[39;00m\u001b[38;5;21;01m.\u001b[39;00m\u001b[38;5;21;01mmitmproxy\u001b[39;00m\u001b[38;5;21;01m.\u001b[39;00m\u001b[38;5;21;01mutils\u001b[39;00m \u001b[38;5;28;01mimport\u001b[39;00m typecheck\n",
      "\u001b[0;31mModuleNotFoundError\u001b[0m: No module named 'blinker._saferef'"
     ]
    }
   ],
   "source": [
    "from seleniumwire import webdriver\n",
    "import time\n",
    "\n",
    "# 配置 Edge 选项\n",
    "options = webdriver.EdgeOptions()\n",
    "# options.add_argument('--headless')  # 可选：无界面模式\n",
    "\n",
    "# 创建浏览器实例\n",
    "driver = webdriver.Edge(options=options)\n",
    "\n",
    "try:\n",
    "    # 打开登录页面\n",
    "    driver.get(\"https://www.srdcloud.cn/\")\n",
    "    print(\"✅ 已打开登录页，请在浏览器中扫码或输入账号密码登录...\")\n",
    "\n",
    "    # 等待你手动登录（比如 60 秒）\n",
    "    time.sleep(10)\n",
    "\n",
    "    # 获取所有请求\n",
    "    for request in driver.requests:\n",
    "        if request.method == 'POST' and '/login' in request.url:  # 修改为你的登录接口关键词\n",
    "            print(\"\\n================== 捕获到 POST 请求 ==================\")\n",
    "            print(\"🔗 URL:\", request.url)\n",
    "            print(\"📨 方法:\", request.method)\n",
    "            \n",
    "            # 打印请求头\n",
    "            print(\"📎 请求头:\")\n",
    "            for k, v in request.headers.items():\n",
    "                print(f\"  {k}: {v}\")\n",
    "            \n",
    "            # 打印请求体（可能是 form 或 json）\n",
    "            if request.body:\n",
    "                try:\n",
    "                    body = request.body.decode('utf-8')\n",
    "                    print(\"📝 请求体:\")\n",
    "                    print(body)\n",
    "                except:\n",
    "                    print(\"📝 请求体（二进制，无法解码）\")\n",
    "\n",
    "            break  # 只打印第一个匹配的 POST /login\n",
    "\n",
    "    # 可选：保存所有请求到文件\n",
    "    # with open(\"requests.log\", \"w\") as f:\n",
    "    #     for req in driver.requests:\n",
    "    #         f.write(f\"{req.method} {req.url}\\n\")\n",
    "\n",
    "finally:\n",
    "    driver.quit()"
   ]
  },
  {
   "cell_type": "code",
   "execution_count": 2,
   "id": "6ff959f8",
   "metadata": {},
   "outputs": [
    {
     "name": "stdout",
     "output_type": "stream",
     "text": [
      "1\n"
     ]
    }
   ],
   "source": [
    "a = []\n",
    "if not a:\n",
    "    print(1)"
   ]
  },
  {
   "cell_type": "code",
   "execution_count": 6,
   "id": "07099599",
   "metadata": {},
   "outputs": [
    {
     "ename": "Error",
     "evalue": "It looks like you are using Playwright Sync API inside the asyncio loop.\nPlease use the Async API instead.",
     "output_type": "error",
     "traceback": [
      "\u001b[0;31m---------------------------------------------------------------------------\u001b[0m",
      "\u001b[0;31mError\u001b[0m                                     Traceback (most recent call last)",
      "Cell \u001b[0;32mIn[6], line 41\u001b[0m\n\u001b[1;32m     33\u001b[0m         \u001b[38;5;66;03m# 保存\u001b[39;00m\n\u001b[1;32m     34\u001b[0m         captured_request \u001b[38;5;241m=\u001b[39m {\n\u001b[1;32m     35\u001b[0m             \u001b[38;5;124m\"\u001b[39m\u001b[38;5;124murl\u001b[39m\u001b[38;5;124m\"\u001b[39m: request\u001b[38;5;241m.\u001b[39murl,\n\u001b[1;32m     36\u001b[0m             \u001b[38;5;124m\"\u001b[39m\u001b[38;5;124mmethod\u001b[39m\u001b[38;5;124m\"\u001b[39m: request\u001b[38;5;241m.\u001b[39mmethod,\n\u001b[1;32m     37\u001b[0m             \u001b[38;5;124m\"\u001b[39m\u001b[38;5;124mheaders\u001b[39m\u001b[38;5;124m\"\u001b[39m: headers,\n\u001b[1;32m     38\u001b[0m             \u001b[38;5;124m\"\u001b[39m\u001b[38;5;124mpost_data\u001b[39m\u001b[38;5;124m\"\u001b[39m: post_data \u001b[38;5;28;01mif\u001b[39;00m \u001b[38;5;124m'\u001b[39m\u001b[38;5;124mpost_data\u001b[39m\u001b[38;5;124m'\u001b[39m \u001b[38;5;129;01min\u001b[39;00m \u001b[38;5;28mlocals\u001b[39m() \u001b[38;5;28;01melse\u001b[39;00m \u001b[38;5;28;01mNone\u001b[39;00m\n\u001b[1;32m     39\u001b[0m         }\n\u001b[0;32m---> 41\u001b[0m \u001b[38;5;28;01mwith\u001b[39;00m sync_playwright() \u001b[38;5;28;01mas\u001b[39;00m p:\n\u001b[1;32m     42\u001b[0m     \u001b[38;5;66;03m# 🔥 启动持久化上下文（使用本地用户数据，保留登录状态）\u001b[39;00m\n\u001b[1;32m     43\u001b[0m     context \u001b[38;5;241m=\u001b[39m p\u001b[38;5;241m.\u001b[39mchromium\u001b[38;5;241m.\u001b[39mlaunch_persistent_context(\n\u001b[1;32m     44\u001b[0m                 user_data_dir\u001b[38;5;241m=\u001b[39m\u001b[38;5;124m'\u001b[39m\u001b[38;5;124m./edge_user_data\u001b[39m\u001b[38;5;124m'\u001b[39m,  \u001b[38;5;66;03m# 独立的用户数据目录\u001b[39;00m\n\u001b[1;32m     45\u001b[0m                 headless\u001b[38;5;241m=\u001b[39m\u001b[38;5;28;01mFalse\u001b[39;00m,\n\u001b[0;32m   (...)\u001b[0m\n\u001b[1;32m     54\u001b[0m                 ],\n\u001b[1;32m     55\u001b[0m             )\n\u001b[1;32m     57\u001b[0m     page \u001b[38;5;241m=\u001b[39m context\u001b[38;5;241m.\u001b[39mpages[\u001b[38;5;241m0\u001b[39m]\n",
      "File \u001b[0;32m~/opt/anaconda3/envs/undergraduate/lib/python3.8/site-packages/playwright/sync_api/_context_manager.py:47\u001b[0m, in \u001b[0;36mPlaywrightContextManager.__enter__\u001b[0;34m(self)\u001b[0m\n\u001b[1;32m     45\u001b[0m             \u001b[38;5;28mself\u001b[39m\u001b[38;5;241m.\u001b[39m_own_loop \u001b[38;5;241m=\u001b[39m \u001b[38;5;28;01mTrue\u001b[39;00m\n\u001b[1;32m     46\u001b[0m         \u001b[38;5;28;01mif\u001b[39;00m \u001b[38;5;28mself\u001b[39m\u001b[38;5;241m.\u001b[39m_loop\u001b[38;5;241m.\u001b[39mis_running():\n\u001b[0;32m---> 47\u001b[0m             \u001b[38;5;28;01mraise\u001b[39;00m Error(\n\u001b[1;32m     48\u001b[0m \u001b[38;5;250m                \u001b[39m\u001b[38;5;124;03m\"\"\"It looks like you are using Playwright Sync API inside the asyncio loop.\u001b[39;00m\n\u001b[1;32m     49\u001b[0m \u001b[38;5;124;03mPlease use the Async API instead.\"\"\"\u001b[39;00m\n\u001b[1;32m     50\u001b[0m             )\n\u001b[1;32m     52\u001b[0m         \u001b[38;5;66;03m# Create a new fiber for the protocol dispatcher. It will be pumping events\u001b[39;00m\n\u001b[1;32m     53\u001b[0m         \u001b[38;5;66;03m# until the end of times. We will pass control to that fiber every time we\u001b[39;00m\n\u001b[1;32m     54\u001b[0m         \u001b[38;5;66;03m# block while waiting for a response.\u001b[39;00m\n\u001b[1;32m     55\u001b[0m         \u001b[38;5;28;01mdef\u001b[39;00m \u001b[38;5;21mgreenlet_main\u001b[39m() \u001b[38;5;241m-\u001b[39m\u001b[38;5;241m>\u001b[39m \u001b[38;5;28;01mNone\u001b[39;00m:\n",
      "\u001b[0;31mError\u001b[0m: It looks like you are using Playwright Sync API inside the asyncio loop.\nPlease use the Async API instead."
     ]
    }
   ],
   "source": [
    "from playwright.sync_api import sync_playwright\n",
    "import json\n",
    "import time\n",
    "\n",
    "# 目标 URL（你已知的 POST 接口）\n",
    "TARGET_URL = \"https://www.srdcloud.cn/\"\n",
    "\n",
    "# 存储捕获的请求信息\n",
    "captured_request = None\n",
    "\n",
    "def on_request(request):\n",
    "    global captured_request\n",
    "    if request.method == \"POST\" and TARGET_URL in request.url:\n",
    "        print(\"✅ 捕获到目标 POST 请求:\")\n",
    "        print(f\"   URL: {request.url}\")\n",
    "        print(f\"   Method: {request.method}\")\n",
    "        \n",
    "        # 获取 headers\n",
    "        headers = request.headers\n",
    "        print(\"📎 Request Headers:\")\n",
    "        for k, v in headers.items():\n",
    "            print(f\"  {k}: {v}\")\n",
    "        \n",
    "        # 获取请求体\n",
    "        try:\n",
    "            post_data = request.post_data\n",
    "            if post_data:\n",
    "                print(\"📝 Request Body:\")\n",
    "                print(post_data.decode('utf-8') if isinstance(post_data, bytes) else post_data)\n",
    "        except:\n",
    "            pass\n",
    "        \n",
    "        # 保存\n",
    "        captured_request = {\n",
    "            \"url\": request.url,\n",
    "            \"method\": request.method,\n",
    "            \"headers\": headers,\n",
    "            \"post_data\": post_data if 'post_data' in locals() else None\n",
    "        }\n",
    "\n",
    "with sync_playwright() as p:\n",
    "    # 🔥 启动持久化上下文（使用本地用户数据，保留登录状态）\n",
    "    context = p.chromium.launch_persistent_context(\n",
    "                user_data_dir='./edge_user_data',  # 独立的用户数据目录\n",
    "                headless=False,\n",
    "                executable_path=\"/Applications/Microsoft Edge.app/Contents/MacOS/Microsoft Edge\",  # 关键：使用 Edge 浏览器程序\n",
    "                args=[\n",
    "                    \"--disable-blink-features=AutomationControlled\",\n",
    "                    \"--no-sandbox\",\n",
    "                    \"--disable-infobars\",\n",
    "                    \"--disable-extensions\",\n",
    "                    \"--disable-web-security\",\n",
    "                    \"--allow-running-insecure-content\",\n",
    "                ],\n",
    "            )\n",
    "\n",
    "    page = context.pages[0]\n",
    "    page.goto(TARGET_URL)  # 替换为你的登录页\n",
    "\n",
    "    print(\"📌 请在浏览器中完成登录操作（扫码/输入账号）...\")\n",
    "    print(\"监听页面请求中...\")\n",
    "\n",
    "    # 🔔 设置监听器\n",
    "    context.on(\"request\", on_request)\n",
    "\n",
    "    # 给你 3 分钟时间登录（可调整）\n",
    "    input(\"登录成功点击任意键输出请求...\")\n",
    "\n",
    "    # 关闭\n",
    "    context.close()\n",
    "\n",
    "re_list = []\n",
    "# 最后可以打印或使用 captured_request\n",
    "if captured_request:\n",
    "    print(\"\\n🎉 已成功捕获请求，headers 可用于 requests:\")\n",
    "    print(json.dumps(captured_request[\"headers\"], indent=2, ensure_ascii=False))\n",
    "    re_list.append(captured_request[\"headers\"])\n",
    "else:\n",
    "    print(f\"\\n❌ 未捕获到 POST 请求: {TARGET_URL}\")\n",
    "    print(\"可能原因：URL 不匹配、未触发请求、网络问题\")"
   ]
  },
  {
   "cell_type": "code",
   "execution_count": 12,
   "id": "bbe96f56",
   "metadata": {},
   "outputs": [
    {
     "data": {
      "text/plain": [
       "{'k1': 'v1', 'k2': 'v', 'k3': 'v3'}"
      ]
     },
     "execution_count": 12,
     "metadata": {},
     "output_type": "execute_result"
    }
   ],
   "source": [
    "a = {'k1':'v1','k2':'v2'}\n",
    "b = {'k3':'v3','k2':'v'}\n",
    "{**a,**b}"
   ]
  },
  {
   "cell_type": "code",
   "execution_count": null,
   "id": "fe7a4427",
   "metadata": {},
   "outputs": [],
   "source": []
  }
 ],
 "metadata": {
  "kernelspec": {
   "display_name": "undergraduate",
   "language": "python",
   "name": "python3"
  },
  "language_info": {
   "codemirror_mode": {
    "name": "ipython",
    "version": 3
   },
   "file_extension": ".py",
   "mimetype": "text/x-python",
   "name": "python",
   "nbconvert_exporter": "python",
   "pygments_lexer": "ipython3",
   "version": "3.8.0"
  }
 },
 "nbformat": 4,
 "nbformat_minor": 5
}
