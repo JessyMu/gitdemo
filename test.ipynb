{
 "cells": [
  {
   "cell_type": "code",
   "execution_count": 1,
   "id": "36141b94",
   "metadata": {},
   "outputs": [],
   "source": [
    "import time\n",
    "\n",
    "import requests\n",
    "import json\n",
    "\n",
    "\n",
    "# 测试用例\n",
    "\n",
    "def solve_test_commit():\n",
    "    url = \"https://www.srdcloud.cn/api/tsback/manualresult/v1/save\"\n",
    "\n",
    "    payload = json.dumps({\n",
    "       \"planId\": \"143509\",\n",
    "       \"caseId\": \"3627251\",\n",
    "       \"result\": \"OK\",\n",
    "       \"resultDesc\": \"<p>测试成功</p>\",\n",
    "       \"descType\": \"step\",\n",
    "       \"description\": {}\n",
    "    })\n",
    "    # 需要变动 sessionid   userid(后续不变）    x-dup-id  Cookie'\n",
    "    headers = {\n",
    "        'authority': 'www.srdcloud.cn',\n",
    "        'pragma': 'no-cache',\n",
    "        'projectid': '32310',\n",
    "        'sessionid': '44d10d85-1e79-45a3-9646-44656183602a',\n",
    "        'userid': '264841',\n",
    "        'x-dup-id': '1747962699-1zrsajouw',\n",
    "        'Cookie': '_pk_id.8.136f=3489c818118ee943.1725241416.; _pk_id.5.136f=1b3e3f31a58e0037.1725241417.; _pk_id.4.136f=0b49a46a7a943210.1725325196.; fp=c94054e345de06e2421e1b1f4942c649; _pk_id.3.136f=923e2f550de8dde0.1734319653.; _pk_ref..136f=%5B%22%22%2C%22%22%2C1747962219%2C%22https%3A%2F%2Fopen.e.189.cn%2F%22%5D; _pk_id.11.136f=c670d85a08784856.1742785487.; prodtoken=0741a5e8-1024-483c-99b8-fb75011bcaed; produserId=264841; CTWIMAPPDPGSSOCookie=0741a5e8-1024-483c-99b8-fb75011bcaed; CTWIMAPPDPGSSOUser=wanghr3; sidebar_status=closed',\n",
    "        'content-type': 'application/json'\n",
    "    }\n",
    "\n",
    "    response = requests.request(\"POST\", url, headers=headers, data=payload)\n",
    "\n",
    "    print(response.text)"
   ]
  },
  {
   "cell_type": "code",
   "execution_count": 3,
   "id": "73f3b451",
   "metadata": {},
   "outputs": [
    {
     "name": "stdout",
     "output_type": "stream",
     "text": [
      "{\"Status\":401,\"Detail\":\"{\\\"optResult\\\":101,\\\"msg\\\":\\\"认证失败\\\",\\\"type\\\":\\\"\\\"}\"}\n"
     ]
    }
   ],
   "source": [
    "solve_test_commit()"
   ]
  },
  {
   "cell_type": "code",
   "execution_count": 6,
   "id": "7fcfa5da",
   "metadata": {},
   "outputs": [
    {
     "ename": "Error",
     "evalue": "It looks like you are using Playwright Sync API inside the asyncio loop.\nPlease use the Async API instead.",
     "output_type": "error",
     "traceback": [
      "\u001b[0;31m---------------------------------------------------------------------------\u001b[0m",
      "\u001b[0;31mError\u001b[0m                                     Traceback (most recent call last)",
      "Cell \u001b[0;32mIn[6], line 8\u001b[0m\n\u001b[1;32m      5\u001b[0m DOC_URL \u001b[38;5;241m=\u001b[39m \u001b[38;5;124m\"\u001b[39m\u001b[38;5;124mhttps://docs.srdcloud.cn/docs/NJkbEl9MyKh0OoqR\u001b[39m\u001b[38;5;124m\"\u001b[39m\n\u001b[1;32m      7\u001b[0m \u001b[38;5;66;03m# 启动浏览器\u001b[39;00m\n\u001b[0;32m----> 8\u001b[0m \u001b[38;5;28;01mwith\u001b[39;00m sync_playwright() \u001b[38;5;28;01mas\u001b[39;00m p:\n\u001b[1;32m      9\u001b[0m     browser \u001b[38;5;241m=\u001b[39m p\u001b[38;5;241m.\u001b[39mchromium\u001b[38;5;241m.\u001b[39mlaunch_persistent_context(\n\u001b[1;32m     10\u001b[0m         user_data_dir\u001b[38;5;241m=\u001b[39m\u001b[38;5;124m\"\u001b[39m\u001b[38;5;124m./user_data\u001b[39m\u001b[38;5;124m\"\u001b[39m,  \u001b[38;5;66;03m# 保存登录状态\u001b[39;00m\n\u001b[1;32m     11\u001b[0m         headless\u001b[38;5;241m=\u001b[39m\u001b[38;5;28;01mFalse\u001b[39;00m,               \u001b[38;5;66;03m# 设为True可后台运行\u001b[39;00m\n\u001b[1;32m     12\u001b[0m         executable_path\u001b[38;5;241m=\u001b[39m\u001b[38;5;124m\"\u001b[39m\u001b[38;5;124m/Applications/Microsoft Edge.app/Contents/MacOS/Microsoft Edge\u001b[39m\u001b[38;5;124m\"\u001b[39m,\n\u001b[1;32m     13\u001b[0m         args\u001b[38;5;241m=\u001b[39m[\u001b[38;5;124m\"\u001b[39m\u001b[38;5;124m--disable-blink-features=AutomationControlled\u001b[39m\u001b[38;5;124m\"\u001b[39m]\n\u001b[1;32m     14\u001b[0m     )\n",
      "File \u001b[0;32m~/opt/anaconda3/envs/undergraduate/lib/python3.8/site-packages/playwright/sync_api/_context_manager.py:47\u001b[0m, in \u001b[0;36mPlaywrightContextManager.__enter__\u001b[0;34m(self)\u001b[0m\n\u001b[1;32m     45\u001b[0m             \u001b[38;5;28mself\u001b[39m\u001b[38;5;241m.\u001b[39m_own_loop \u001b[38;5;241m=\u001b[39m \u001b[38;5;28;01mTrue\u001b[39;00m\n\u001b[1;32m     46\u001b[0m         \u001b[38;5;28;01mif\u001b[39;00m \u001b[38;5;28mself\u001b[39m\u001b[38;5;241m.\u001b[39m_loop\u001b[38;5;241m.\u001b[39mis_running():\n\u001b[0;32m---> 47\u001b[0m             \u001b[38;5;28;01mraise\u001b[39;00m Error(\n\u001b[1;32m     48\u001b[0m \u001b[38;5;250m                \u001b[39m\u001b[38;5;124;03m\"\"\"It looks like you are using Playwright Sync API inside the asyncio loop.\u001b[39;00m\n\u001b[1;32m     49\u001b[0m \u001b[38;5;124;03mPlease use the Async API instead.\"\"\"\u001b[39;00m\n\u001b[1;32m     50\u001b[0m             )\n\u001b[1;32m     52\u001b[0m         \u001b[38;5;66;03m# Create a new fiber for the protocol dispatcher. It will be pumping events\u001b[39;00m\n\u001b[1;32m     53\u001b[0m         \u001b[38;5;66;03m# until the end of times. We will pass control to that fiber every time we\u001b[39;00m\n\u001b[1;32m     54\u001b[0m         \u001b[38;5;66;03m# block while waiting for a response.\u001b[39;00m\n\u001b[1;32m     55\u001b[0m         \u001b[38;5;28;01mdef\u001b[39;00m \u001b[38;5;21mgreenlet_main\u001b[39m() \u001b[38;5;241m-\u001b[39m\u001b[38;5;241m>\u001b[39m \u001b[38;5;28;01mNone\u001b[39;00m:\n",
      "\u001b[0;31mError\u001b[0m: It looks like you are using Playwright Sync API inside the asyncio loop.\nPlease use the Async API instead."
     ]
    }
   ],
   "source": [
    "from playwright.sync_api import sync_playwright\n",
    "import time\n",
    "\n",
    "# 文档链接\n",
    "DOC_URL = \"https://docs.srdcloud.cn/docs/NJkbEl9MyKh0OoqR\"\n",
    "\n",
    "# 启动浏览器\n",
    "with sync_playwright() as p:\n",
    "    browser = p.chromium.launch_persistent_context(\n",
    "        user_data_dir=\"./user_data\",  # 保存登录状态\n",
    "        headless=False,               # 设为True可后台运行\n",
    "        executable_path=\"/Applications/Microsoft Edge.app/Contents/MacOS/Microsoft Edge\",\n",
    "        args=[\"--disable-blink-features=AutomationControlled\"]\n",
    "    )"
   ]
  }
 ],
 "metadata": {
  "kernelspec": {
   "display_name": "undergraduate",
   "language": "python",
   "name": "python3"
  },
  "language_info": {
   "codemirror_mode": {
    "name": "ipython",
    "version": 3
   },
   "file_extension": ".py",
   "mimetype": "text/x-python",
   "name": "python",
   "nbconvert_exporter": "python",
   "pygments_lexer": "ipython3",
   "version": "3.8.0"
  }
 },
 "nbformat": 4,
 "nbformat_minor": 5
}
